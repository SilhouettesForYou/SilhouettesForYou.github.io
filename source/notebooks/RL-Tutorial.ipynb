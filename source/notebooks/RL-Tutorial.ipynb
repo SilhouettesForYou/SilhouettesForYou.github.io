{
 "cells": [
  {
   "cell_type": "markdown",
   "metadata": {},
   "source": [
    "### `env`成员\n",
    "* 环境定义了动作空间及状态空间\n",
    "* 此外还需要`step(action)`\n",
    "$$\n",
    "\\begin{align}\n",
    "R(s_t, a_t) &= r_t \\\\\n",
    "P(s_t, a_t) &= s_{t + 1}\n",
    "\\end{align}\n",
    "$$"
   ]
  },
  {
   "cell_type": "markdown",
   "metadata": {},
   "source": [
    "### 用`action`与`env`交互"
   ]
  },
  {
   "cell_type": "code",
   "execution_count": null,
   "metadata": {},
   "outputs": [],
   "source": [
    "import gym\n",
    "import matplotlib.pyplot as plt\n",
    "from matplotlib import animation\n",
    "\n",
    "def display_frames_to_viedo(frames, i):\n",
    "    shape = frames[0].shape\n",
    "    plt.figure(figsize=(shape[0] / 72, shape[1] / 72), dpi=72)\n",
    "    plt.axis(\"off\")\n",
    "    patch = plt.imshow(frames[0])\n",
    "    def animate(i):\n",
    "        patch.set_data(frames[i])\n",
    "    anim = animation.FuncAnimation(plt.gcf(), animate, frames=range(len(frames)), interval=50)\n",
    "    anim.save(f\"cartpole-{i}.gif\")\n",
    "\n",
    "env_name = 'CartPole-v1'\n",
    "env = gym.make(env_name, render_mode=\"rgb_array\")\n",
    "for epoch in range(1, 5):\n",
    "    done = False\n",
    "    score = 0\n",
    "    state = env.reset()\n",
    "    frames = []\n",
    "    while not done:\n",
    "        frames.append(env.render())\n",
    "        action = env.action_space.sample()\n",
    "        observation, reward, done, truncated, info = env.step(action)\n",
    "        score += reward\n",
    "\n",
    "    print(f'epoch: {epoch}, total reward: {score}')\n",
    "    display_frames_to_viedo(frames, epoch)"
   ]
  },
  {
   "cell_type": "markdown",
   "metadata": {},
   "source": [
    "### Maze"
   ]
  },
  {
   "cell_type": "code",
   "execution_count": null,
   "metadata": {},
   "outputs": [
    {
     "data": {
      "image/png": "[encoded data removed]",
      "text/plain": [
       "<Figure size 500x500 with 1 Axes>"
      ]
     },
     "metadata": {},
     "output_type": "display_data"
    }
   ],
   "source": [
    "import matplotlib.pyplot as plt\n",
    "%matplotlib inline\n",
    "\n",
    "fig = plt.figure(figsize=(5, 5))\n",
    "ax = plt.gca()\n",
    "ax.set_xlim(0, 3)\n",
    "ax.set_ylim(0, 3)\n",
    "\n",
    "plt.plot([0, 1], [1, 1], color='red', linewidth=2)\n",
    "plt.plot([1, 1], [1, 2], color='red', linewidth=2)\n",
    "plt.plot([1, 2], [2, 2], color='red', linewidth=2)\n",
    "plt.plot([2, 3], [1, 1], color='red', linewidth=2)\n",
    "\n",
    "plt.text(0.5, 2.5, 'S0', size=14, ha='center')\n",
    "plt.text(1.5, 2.5, 'S1', size=14, ha='center')\n",
    "plt.text(2.5, 2.5, 'S2', size=14, ha='center')\n",
    "plt.text(0.5, 1.5, 'S3', size=14, ha='center')\n",
    "plt.text(1.5, 1.5, 'S4', size=14, ha='center')\n",
    "plt.text(2.5, 1.5, 'S5', size=14, ha='center')\n",
    "plt.text(0.5, 0.5, 'S6', size=14, ha='center')\n",
    "plt.text(1.5, 0.5, 'S7', size=14, ha='center')\n",
    "plt.text(2.5, 0.5, 'S8', size=14, ha='center')\n",
    "plt.text(0.5, 2.3, 'START', size=14, ha='center')\n",
    "plt.text(2.5, 0.3, 'GOAL', size=14, ha='center')\n",
    "\n",
    "plt.axis('on')\n",
    "plt.tick_params(\n",
    "    axis='both',\n",
    "    which='both',\n",
    "    bottom=False,\n",
    "    top=False,\n",
    "    right=False,\n",
    "    left=False,\n",
    "    labelbottom=False,\n",
    "    labelleft=False\n",
    ")\n",
    "\n",
    "line, = ax.plot([.5], [2.5], marker='o', color='g', markersize=60)"
   ]
  },
  {
   "cell_type": "markdown",
   "metadata": {},
   "source": [
    "#### Agent action policy\n",
    "* $\\pi_{\\theta}(s, a)$\n",
    "  * $s$: $S_0 \\rightarrow S8$, discrete and finite ($3 \\times 3$, grid world)\n",
    "  * $a$: $[0, 1, 2, 3]$, $\\uparrow$, $\\rightarrow$, $\\downarrow$, $\\leftarrow$\n",
    "  * representation\n",
    "    * function: `nn`\n",
    "    * table: `state * action` matrix $\\star$"
   ]
  },
  {
   "cell_type": "code",
   "execution_count": null,
   "metadata": {},
   "outputs": [],
   "source": [
    "import numpy as np\n",
    "\n",
    "# border & barrier\n",
    "theta_0 = np.asarray([\n",
    "    [np.nan, 1, 1, np.nan],       # S0\n",
    "    [np.nan, 1, np.nan, np.nan],  # S1\n",
    "    [np.nan, np.nan, 1, 1],       # S2\n",
    "    [1, np.nan, np.nan, np.nan],  # S3\n",
    "    [np.nan, 1, 1, np.nan],       # S4\n",
    "    [1, np.nan, np.nan, 1],       # S5\n",
    "    [np.nan, 1, np.nan, np.nan],  # S6\n",
    "    [1, 1, np.nan, 1]             # S7\n",
    "])\n",
    "\n",
    "def convert_theta_0_to_pi(theta):\n",
    "    m, n = theta.shape\n",
    "    pi = np.zeros((m , n))\n",
    "    for r in range(m):\n",
    "        pi[r, :] = theta[r, :] / np.nansum(theta[r, :])\n",
    "    return np.nan_to_num(pi)\n",
    "\n",
    "def step(state, action):\n",
    "    if action == 0:\n",
    "        state -= 3\n",
    "    elif action == 1:\n",
    "        state += 1\n",
    "    elif action == 2:\n",
    "        state += 3\n",
    "    elif action == 3:\n",
    "        state -= 1\n",
    "    return state\n",
    "    \n",
    "actions = list(range(4))\n",
    "pi = convert_theta_0_to_pi(theta_0)\n",
    "state = 0\n",
    "action_history = []\n",
    "state_history = [state]\n",
    "while True:\n",
    "    action = np.random.choice(actions, p=pi[state, :])\n",
    "    state = step(state, action)\n",
    "    if state == 8:\n",
    "        state_history.append(state)\n",
    "        break\n",
    "    action_history.append(action)\n",
    "    state_history.append(state)"
   ]
  },
  {
   "cell_type": "code",
   "execution_count": null,
   "metadata": {},
   "outputs": [
    {
     "data": {
      "text/plain": [
       "13"
      ]
     },
     "execution_count": 30,
     "metadata": {},
     "output_type": "execute_result"
    }
   ],
   "source": [
    "len(state_history)"
   ]
  },
  {
   "cell_type": "markdown",
   "metadata": {},
   "source": [
    "#### Rendering & animation"
   ]
  },
  {
   "cell_type": "code",
   "execution_count": null,
   "metadata": {},
   "outputs": [],
   "source": [
    "from matplotlib import animation\n",
    "from IPython.display import HTML\n",
    "\n",
    "def init():\n",
    "    line.set_data([[]], [[]])\n",
    "    return (line, )\n",
    "\n",
    "def animate(i):\n",
    "    state = state_history[i]\n",
    "    x = (state % 3) + 0.5\n",
    "    y = 2.5 - int(state / 3)\n",
    "    line.set_data([x], [y])\n",
    "\n",
    "anim = animation.FuncAnimation(fig, animate, init_func=init, frames=len(state_history), interval=200, repeat=False)\n",
    "anim.save('maze_0.mp4')\n",
    "HTML(anim.to_jshtml())"
   ]
  },
  {
   "cell_type": "markdown",
   "metadata": {},
   "source": [
    "### MazeEnv Agent"
   ]
  },
  {
   "cell_type": "code",
   "execution_count": null,
   "metadata": {},
   "outputs": [],
   "source": [
    "from typing import Tuple\n",
    "import gym\n",
    "import numpy as np\n",
    "import matplotlib.pyplot as plt\n",
    "\n",
    "class MazeEnv(gym.Env):\n",
    "    def __init__(self) -> None:\n",
    "        super().__init__()\n",
    "        self.state = 0\n",
    "\n",
    "    def reset(self) -> int:\n",
    "        self.state = 0\n",
    "        return self.state\n",
    "    \n",
    "    def step(self, action):\n",
    "        if action == 0:\n",
    "            self.state -= 3\n",
    "        elif action == 1:\n",
    "            self.state += 1\n",
    "        elif action == 2:\n",
    "            self.state += 3\n",
    "        elif action == 3:\n",
    "            self.state -= 1\n",
    "        done = False\n",
    "        if self.state == 8:\n",
    "            done = True\n",
    "        return self.state, 1, done, {}    \n",
    "\n",
    "\n",
    "class Agent:\n",
    "    def __init__(self) -> None:\n",
    "        self.actions = list(range(4))\n",
    "        self.theta_0 = np.asarray([\n",
    "            [np.nan, 1, 1, np.nan],       # S0\n",
    "            [np.nan, 1, np.nan, np.nan],  # S1\n",
    "            [np.nan, np.nan, 1, 1],       # S2\n",
    "            [1, np.nan, np.nan, np.nan],  # S3\n",
    "            [np.nan, 1, 1, np.nan],       # S4\n",
    "            [1, np.nan, np.nan, 1],       # S5\n",
    "            [np.nan, 1, np.nan, np.nan],  # S6\n",
    "            [1, 1, np.nan, 1]             # S7\n",
    "        ])\n",
    "        self.pi = self._convert_theta_0_to_pi(self.theta_0)\n",
    "\n",
    "    def _convert_theta_0_to_pi(self, theta):\n",
    "        m, n = theta.shape\n",
    "        pi = np.zeros((m , n))\n",
    "        for r in range(m):\n",
    "            pi[r, :] = theta[r, :] / np.nansum(theta[r, :])\n",
    "        return np.nan_to_num(pi)\n",
    "\n",
    "    def choose_action(self, state):\n",
    "        action = np.random.choice(self.actions, p=self.pi[state, :])\n",
    "        return action\n",
    "\n",
    "\n",
    "env = MazeEnv()\n",
    "state = env.reset()\n",
    "agent = Agent()\n",
    "\n",
    "done = False\n",
    "action_history = []\n",
    "state_history = [state]\n",
    "while not done:\n",
    "    action = agent.choose_action(state)\n",
    "    state, reward, done, _ = env.step(action)\n",
    "    action_history.append(action)\n",
    "    state_history.append(state)\n",
    "\n",
    "anim = animation.FuncAnimation(fig, animate, init_func=init, frames=len(state_history), interval=200, repeat=False)\n",
    "HTML(anim.to_jshtml())"
   ]
  },
  {
   "cell_type": "markdown",
   "metadata": {},
   "source": [
    "### Policy Gradient\n",
    "\n",
    "* $\\theta$与$\\pi_{\\theta}(s, a)$（给定$\\theta$ 特征参数 关于$s$，$a$的函数），基于$\\theta$找到$\\pi_{\\theta}$\n",
    "  * $\\theta$是策略参数\n",
    "  * $\\pi_{\\theta}(s, a)$是策略（base $\\theta$, policy）\n",
    "  * $\\pi$表示分布\n",
    "* 策略迭代（策略梯度，plolicy gradient）的含义\n",
    "  * $\\theta_0 \\rightarrow \\pi_0, \\theta_0 \\rightarrow \\theta_1, \\theta_1 \\rightarrow \\pi_1$"
   ]
  },
  {
   "cell_type": "markdown",
   "metadata": {},
   "source": [
    "#### 基于占比，最朴素（naive）的概率化方式"
   ]
  },
  {
   "cell_type": "markdown",
   "metadata": {},
   "source": [
    "def convert_theta_0_to_pi(theta):\n",
    "    m, n = theta.shape\n",
    "    pi = np.zeros((m , n))\n",
    "    for r in range(m):\n",
    "        pi[r, :] = theta[r, :] / np.nansum(theta[r, :])\n",
    "    return np.nan_to_num(pi)"
   ]
  },
  {
   "cell_type": "markdown",
   "metadata": {},
   "source": [
    "#### 基于softmax，更general的概率化方式\n",
    "$$\n",
    "\\begin{align}\n",
    "P_k &= \\frac{exp(z_k \\cdot \\beta)}{\\sum_i{exp(z_i \\cdot \\beta)}} \\\\\n",
    "    &= \\frac{exp(\\tfrac{z_k}{T})}{\\sum_i{exp(\\tfrac{z_i}{T})}} \\\\\n",
    "    &= \\frac{exp(\\beta \\cdot z_k)}{\\sum_i{exp(\\beta \\cdot z_i)}} \\\\\n",
    "\\end{align}\n",
    "$$"
   ]
  },
  {
   "cell_type": "code",
   "execution_count": null,
   "metadata": {},
   "outputs": [],
   "source": [
    "def soft_convert_theta_0_to_pi(theta, beta=1.0):\n",
    "    m, n = theta.shape\n",
    "    pi = np.zeros((m, n))\n",
    "    exp_theta = np.exp(theta * beta)\n",
    "    for r in range(m):\n",
    "        pi[r, :] = exp_theta[r, :] / np.nansum(exp_theta[r, :])\n",
    "    pi = np.nan_to_num(pi)\n",
    "    return pi"
   ]
  },
  {
   "cell_type": "markdown",
   "metadata": {},
   "source": [
    "#### 参数$\\theta$更新\n",
    "$\\theta_{s_i, a_i} = \\theta_{s_i, a_i} + \\eta \\cdot \\Delta \\theta_{s, a_i}$ <br>\n",
    "$\\Delta \\theta_{s, a_i} = \\frac{1}{T} \\cdot (N(s_i, a_j) - P(s_i, a_j)N(s_i, a))$"
   ]
  },
  {
   "cell_type": "code",
   "execution_count": null,
   "metadata": {},
   "outputs": [],
   "source": [
    "import gym\n",
    "import numpy as np\n",
    "import matplotlib.pyplot as plt\n",
    "\n",
    "\n",
    "class MazeEnv(gym.Env):\n",
    "    def __init__(self) -> None:\n",
    "        super().__init__()\n",
    "        self.state = 0\n",
    "\n",
    "    def reset(self) -> int:\n",
    "        self.state = 0\n",
    "        return self.state\n",
    "    \n",
    "    def step(self, action):\n",
    "        if action == 0:\n",
    "            self.state -= 3\n",
    "        elif action == 1:\n",
    "            self.state += 1\n",
    "        elif action == 2:\n",
    "            self.state += 3\n",
    "        elif action == 3:\n",
    "            self.state -= 1\n",
    "        done = False\n",
    "        if self.state == 8:\n",
    "            done = True\n",
    "        return self.state, 1, done, {}    \n",
    "    \n",
    "class Agent:\n",
    "    def __init__(self) -> None:\n",
    "        self.actions = list(range(4))\n",
    "        self.theta_0 = np.asarray([\n",
    "            [np.nan, 1, 1, np.nan],       # S0\n",
    "            [np.nan, 1, np.nan, np.nan],  # S1\n",
    "            [np.nan, np.nan, 1, 1],       # S2\n",
    "            [1, np.nan, np.nan, np.nan],  # S3\n",
    "            [np.nan, 1, 1, np.nan],       # S4\n",
    "            [1, np.nan, np.nan, 1],       # S5\n",
    "            [np.nan, 1, np.nan, np.nan],  # S6\n",
    "            [1, 1, np.nan, 1]             # S7\n",
    "        ])\n",
    "        self.eta = 0.1\n",
    "        self.theta = self.theta_0\n",
    "        self.pi = self._softmax_convert_theta_0_to_pi()\n",
    "\n",
    "    def _convert_theta_0_to_pi(self, theta):\n",
    "        m, n = theta.shape\n",
    "        pi = np.zeros((m , n))\n",
    "        for r in range(m):\n",
    "            pi[r, :] = theta[r, :] / np.nansum(theta[r, :])\n",
    "        return np.nan_to_num(pi)\n",
    "    \n",
    "    def _softmax_convert_theta_0_to_pi(self, beta=1.0):\n",
    "        m, n = self.theta.shape\n",
    "        pi = np.zeros((m, n))\n",
    "        exp_theta = np.exp(self.theta * beta)\n",
    "        for r in range(m):\n",
    "            pi[r, :] = exp_theta[r, :] / np.nansum(exp_theta[r, :])\n",
    "        pi = np.nan_to_num(pi)\n",
    "        return pi\n",
    "    \n",
    "    def update_theta(self, s_a_history):\n",
    "        T = len(s_a_history) - 1\n",
    "        m, n = self.theta.shape\n",
    "        delta_theta = self.theta.copy()\n",
    "        for i in range(m):\n",
    "            for j in range(n):\n",
    "                if not(np.isnan(self.theta_0[i, j])):\n",
    "                    sa_i = [sa for sa in s_a_history if sa[0] == i]\n",
    "                    sa_ij = [sa for sa in s_a_history if (sa[0] == i and sa[1] == j)]\n",
    "                    N_i = len(sa_i)\n",
    "                    N_ij = len(sa_ij)\n",
    "                    delta_theta[i, j] = (N_ij - self.pi[i, j] * N_i) / T\n",
    "        self.theta = self.theta + self.eta + delta_theta\n",
    "        return self.theta\n",
    "    \n",
    "    def update_pi(self):\n",
    "        self.pi = self._softmax_convert_theta_0_to_pi()\n",
    "\n",
    "    def choose_action(self, state):\n",
    "        action = np.random.choice(self.actions, p=self.pi[state, :])\n",
    "        return action\n",
    "    \n",
    "\n",
    "env = MazeEnv()\n",
    "agent = Agent()\n",
    "step_eps = 1e-4\n",
    "while True:\n",
    "    state = env.reset()\n",
    "    s_a_history = [[state, np.nan]]\n",
    "    while True:\n",
    "        action = agent.choose_action(state)\n",
    "        s_a_history[-1][1] = action\n",
    "        state, reward, done, _ = env.step(action)\n",
    "        s_a_history.append([state, np.nan])\n",
    "        if state == 8 or done:\n",
    "            break\n",
    "    agent.update_theta(s_a_history)\n",
    "    pi = agent.pi.copy()\n",
    "    agent.update_pi()\n",
    "    delta = np.sum(np.abs(pi - agent.pi))\n",
    "    print(len(s_a_history), delta)\n",
    "    if delta < step_eps:\n",
    "        break\n"
   ]
  },
  {
   "cell_type": "code",
   "execution_count": null,
   "metadata": {},
   "outputs": [
    {
     "data": {
      "text/plain": [
       "array([[0.        , 0.99541232, 0.00458768, 0.        ],\n",
       "       [0.        , 1.        , 0.        , 0.        ],\n",
       "       [0.        , 0.        , 0.99741565, 0.00258435],\n",
       "       [1.        , 0.        , 0.        , 0.        ],\n",
       "       [0.        , 0.00970233, 0.99029767, 0.        ],\n",
       "       [0.00381682, 0.        , 0.        , 0.99618318],\n",
       "       [0.        , 1.        , 0.        , 0.        ],\n",
       "       [0.00145353, 0.99576995, 0.        , 0.00277653]])"
      ]
     },
     "execution_count": 12,
     "metadata": {},
     "output_type": "execute_result"
    }
   ],
   "source": [
    "pi = agent.pi\n",
    "pi"
   ]
  },
  {
   "cell_type": "markdown",
   "metadata": {},
   "source": [
    "### 基本概念及术语\n",
    "* reward\n",
    "  * 特定时间$t$给到的奖励$R_t$称为即时奖励（immediate reward）\n",
    "  * 未来的总奖励$G_t$\n",
    "    * $G_t = R_{t + 1} + R_{t + 2} + R_{t + 3} + \\cdots$\n",
    "    * $G_t = R_{t + 1} + \\gamma R_{t + 2} + \\gamma^2 R_{t + 3} + \\cdots + \\gamma^k R_{t + k + 1} + \\cdots$\n",
    "  * 举例\n",
    "    * $Q_{\\pi}(s = 7, a = 1) = R_{t + 1} = 1$\n",
    "    * $Q_{\\pi}(s = 7, a = 0) = \\gamma^2$\n",
    "* action value, state value\n",
    "* bellman equation\n",
    "  * 适用于状态价值函数（state value function），也适用于动作价值函数（action value function）\n",
    "* mdp: markov decision process\n",
    "  * 马尔可夫性\n",
    "    * $p(s_{t + 1}|s_t) = p(s_{t + 1}|s_1, s_2, s_3, \\cdots, s_t)$\n",
    "    * $t$时刻的状态转移到$t + 1$时刻的状态应该和前面的状态无关，只和$t$时刻的状态有关\n",
    "    * bellman equation 成立的前提条件\n",
    "### SARSA\n",
    "state, action reward, state, action\n",
    "* $R_t$\n",
    "* $Q_{\\pi}(s, a)$: state action value funciton\n",
    "  * Q table\n",
    "  * 通过 Sarsa 算法迭代更新$Q_{pi}(s, a)$\n",
    "* 对于强化学习而言\n",
    "  * state, action, reward 都是需要精心设计的"
   ]
  },
  {
   "cell_type": "code",
   "execution_count": null,
   "metadata": {},
   "outputs": [
    {
     "data": {
      "text/plain": [
       "array([[       nan, 0.89526567, 0.85458108,        nan],\n",
       "       [       nan, 0.69141077,        nan,        nan],\n",
       "       [       nan,        nan, 0.90761197, 0.57464978],\n",
       "       [0.80707793,        nan,        nan,        nan],\n",
       "       [       nan, 0.54164057, 0.40533904,        nan],\n",
       "       [0.93912137,        nan,        nan, 0.4673623 ],\n",
       "       [       nan, 0.76428396,        nan,        nan],\n",
       "       [0.1730892 , 0.83239731,        nan, 0.94642327]])"
      ]
     },
     "execution_count": 1,
     "metadata": {},
     "output_type": "execute_result"
    }
   ],
   "source": [
    "import numpy as np\n",
    "\n",
    "theta_0 = np.asarray([\n",
    "    [np.nan, 1, 1, np.nan],       # S0\n",
    "    [np.nan, 1, np.nan, np.nan],  # S1\n",
    "    [np.nan, np.nan, 1, 1],       # S2\n",
    "    [1, np.nan, np.nan, np.nan],  # S3\n",
    "    [np.nan, 1, 1, np.nan],       # S4\n",
    "    [1, np.nan, np.nan, 1],       # S5\n",
    "    [np.nan, 1, np.nan, np.nan],  # S6\n",
    "    [1, 1, np.nan, 1]             # S7\n",
    "])\n",
    "\n",
    "n_states, n_actions = theta_0.shape\n",
    "Q = np.random.rand(n_states, n_actions) * theta_0\n",
    "Q"
   ]
  },
  {
   "cell_type": "markdown",
   "metadata": {},
   "source": [
    "#### $\\epsilon$-greedy (explore, exploit)"
   ]
  },
  {
   "cell_type": "code",
   "execution_count": null,
   "metadata": {},
   "outputs": [
    {
     "data": {
      "text/plain": [
       "array([[0.        , 0.5       , 0.5       , 0.        ],\n",
       "       [0.        , 1.        , 0.        , 0.        ],\n",
       "       [0.        , 0.        , 0.5       , 0.5       ],\n",
       "       [1.        , 0.        , 0.        , 0.        ],\n",
       "       [0.        , 0.5       , 0.5       , 0.        ],\n",
       "       [0.5       , 0.        , 0.        , 0.5       ],\n",
       "       [0.        , 1.        , 0.        , 0.        ],\n",
       "       [0.33333333, 0.33333333, 0.        , 0.33333333]])"
      ]
     },
     "execution_count": 2,
     "metadata": {},
     "output_type": "execute_result"
    }
   ],
   "source": [
    "def convert_theta_0_to_pi(theta):\n",
    "    m, n = theta.shape\n",
    "    pi = np.zeros((m, n))\n",
    "    for r in range(m):\n",
    "        pi[r, :] = theta[r, :] / np.nansum(theta[r, :])\n",
    "    return np.nan_to_num(pi)\n",
    "\n",
    "# epsilon-greedy\n",
    "def get_action(s, Q, epsilon, pi_0):\n",
    "    action_spaces = list(range(4))\n",
    "    # epsilon, explore\n",
    "    if np.random.rand() < epsilon:\n",
    "        action = np.random.choice(action_spaces, p=pi_0[s, :])\n",
    "    else:\n",
    "        # 1 - epsilon, exploit\n",
    "        action = np.nanargmax(Q[s, :]) # 选择非nan的最大的参数作为action\n",
    "\n",
    "    return action\n",
    "\n",
    "pi_0 = convert_theta_0_to_pi(theta_0)\n",
    "pi_0"
   ]
  },
  {
   "cell_type": "markdown",
   "metadata": {},
   "source": [
    "#### Sarsa (Update $Q_{\\pi}(s, a)$)\n",
    "理想情况下：\n",
    "$$Q(s_t, a_t) = R_{t + 1} + \\gamma Q(s_{t + 1}, a_{t + 1})$$\n",
    "* td (temporal difference error) 现实情况是存在TD Error的\n",
    "  * $R_{t + 1}  + \\gamma Q(s_{t + 1}, a_{t + 1}) - Q(s_t, a_t)$\n",
    "* final update equation 是一个迭代的过程，不断地更新当前Q-Table中的value，$eta$是学习率\n",
    "  * $Q(s_t, a_t) = Q(s_t, a_t) + \\eta \\cdot (R_{t + 1} + \\gamma Q(s_{t + 1}, a_{t + 1}) - Q(s_t, a_t))$\n",
    "  * $s_t, a_t, r_{t + 1}, a_{t + 1}$\n",
    "* 折扣（discount factor, $\\gamma$）,有助于缩短步数，更快地结束任务（王树森：距离当前状态越远的回报越不重要，通过乘上迭代因子，是较远的汇报不会影响当前的状态更新）"
   ]
  },
  {
   "cell_type": "code",
   "execution_count": null,
   "metadata": {},
   "outputs": [],
   "source": [
    "def sarsa(s, a, r, s_next, a_next, Q, eta, gamma):\n",
    "    if a_next == 8: # 将Q[s_next, a_next]置为0\n",
    "        Q[s, a] = Q[s, a] + eta * (r - Q[s, a])\n",
    "    else:\n",
    "        Q[s, a] = Q[s, a] + eta * (r + gamma * Q[s_next, a_next] - Q[s, a])"
   ]
  },
  {
   "cell_type": "markdown",
   "metadata": {},
   "source": [
    "### Q learning\n",
    "- sarsa: $Q(s_t, a_t) = Q(s_t, a_t) + \\eta \\cdot (R_{t + 1} + \\gamma Q(s_{t + 1}, a_{t + 1}) - Q(s_t, a_t))$\n",
    "  - 策略依赖型（on）\n",
    "- Q learning: $Q(s_t, a_t) = Q(s_t, a_t) + \\eta \\cdot (R_{t + 1} + \\gamma \\max_a{Q(s_{t + 1}, a)} - Q(s_t, a_t))$\n",
    "  - 策略关闭型（off）"
   ]
  },
  {
   "cell_type": "markdown",
   "metadata": {},
   "source": [
    "### 解决 Maze 问题"
   ]
  },
  {
   "cell_type": "code",
   "execution_count": null,
   "metadata": {},
   "outputs": [
    {
     "name": "stdout",
     "output_type": "stream",
     "text": [
      "1 0.3969946358867419 151\n",
      "2 0.04794612123903408 133\n",
      "3 0.0045946340032387845 117\n",
      "4 0.03443967892420008 685\n",
      "5 0.05449738145685423 803\n",
      "6 0.0002458977956059094 651\n",
      "7 0.012437379911240165 2007\n",
      "8 0.012714619543213956 11469\n",
      "9 0.0 2419\n"
     ]
    }
   ],
   "source": [
    "import gym\n",
    "import numpy as np\n",
    "import matplotlib.pyplot as plt\n",
    "\n",
    "\n",
    "class MazeEnv(gym.Env):\n",
    "    def __init__(self) -> None:\n",
    "        super().__init__()\n",
    "        self.state = 0\n",
    "\n",
    "    def reset(self) -> int:\n",
    "        self.state = 0\n",
    "        return self.state\n",
    "    \n",
    "    def step(self, action):\n",
    "        if action == 0:\n",
    "            self.state -= 3\n",
    "        elif action == 1:\n",
    "            self.state += 1\n",
    "        elif action == 2:\n",
    "            self.state += 3\n",
    "        elif action == 3:\n",
    "            self.state -= 1\n",
    "        done = False\n",
    "        reward = 0\n",
    "        if self.state == 8:\n",
    "            done = True\n",
    "            reward = 1\n",
    "        return self.state, reward, done, {}    \n",
    "    \n",
    "class Agent:\n",
    "    def __init__(self) -> None:\n",
    "        self.action_spaces = list(range(4))\n",
    "        self.theta = np.asarray([\n",
    "            [np.nan, 1, 1, np.nan],       # S0\n",
    "            [np.nan, 1, np.nan, 1],       # S1\n",
    "            [np.nan, np.nan, 1, 1],       # S2\n",
    "            [1, np.nan, np.nan, np.nan],  # S3\n",
    "            [np.nan, 1, 1, np.nan],       # S4\n",
    "            [1, np.nan, np.nan, 1],       # S5\n",
    "            [np.nan, 1, np.nan, np.nan],  # S6\n",
    "            [1, 1, np.nan, 1]             # S7\n",
    "        ])\n",
    "        self.eta = 0.1\n",
    "        self.Q = np.random.rand(*self.theta.shape) * self.theta\n",
    "        self.pi = self._convert_theta_0_to_pi()\n",
    "        self.eta = 0.1\n",
    "        self.gamma = 0.9\n",
    "        self.epsilon = 0.5\n",
    "\n",
    "    def _convert_theta_0_to_pi(self):\n",
    "        m, n = self.theta.shape\n",
    "        pi = np.zeros((m, n))\n",
    "        for r in range(m):\n",
    "            pi[r, :] = self.theta[r, :] / np.nansum(self.theta[r, :])\n",
    "        return np.nan_to_num(pi)\n",
    "    \n",
    "    def get_action(self, s):\n",
    "        # epsilon, explore\n",
    "        if np.random.rand() < self.epsilon:\n",
    "            action = np.random.choice(self.action_spaces, p=self.pi[s, :])\n",
    "        else:\n",
    "            # 1 - epsilon, exploit\n",
    "            action = np.nanargmax(self.Q[s, :]) # 选择非nan的最大的参数作为action\n",
    "        return action\n",
    "    \n",
    "    def sarsa(self, s, a, r, s_next, a_next):\n",
    "        if s_next == 8: # 将Q[s_next, a_next]置为0\n",
    "            self.Q[s, a] = self.Q[s, a] + self.eta * (r - self.Q[s, a])\n",
    "        else:\n",
    "            self.Q[s, a] = self.Q[s, a] + self.eta * (r + self.gamma * self.Q[s_next, a_next] - self.Q[s, a])\n",
    "    \n",
    "    def q_learning(self, s, a, r, s_next):\n",
    "        if s_next == 8: # 将Q[s_next, a_next]置为0\n",
    "            self.Q[s, a] = self.Q[s, a] + self.eta * (r - self.Q[s, a])\n",
    "        else:\n",
    "            self.Q[s, a] = self.Q[s, a] + self.eta * (r + self.gamma * np.nanmax(self.Q[s_next, :]) - self.Q[s, a])\n",
    "\n",
    "env = MazeEnv()\n",
    "agent = Agent()\n",
    "step_eps = 1e-5\n",
    "epoch = 0\n",
    "while True:\n",
    "    old_Q = np.nanmax(agent.Q, axis=1)\n",
    "    state = env.reset()\n",
    "    action = agent.get_action(state)\n",
    "    s_a_history = [[state, np.nan]]\n",
    "    while True:\n",
    "        s_a_history[-1][1] = action\n",
    "        s_next, reward, done, _ = env.step(action)\n",
    "        s_a_history.append([state, np.nan])\n",
    "        if done:\n",
    "            a_next = np.nan\n",
    "        else:\n",
    "            a_next = agent.get_action(s_next)\n",
    "        # print(\"state: {}, action: {}, reward: {}, state next: {}, action next: {}\".format(state, action, reward, s_next, a_next))\n",
    "        # agent.sarsa(state, action, reward, s_next, a_next)\n",
    "        agent.q_learning(state, action, reward, s_next)\n",
    "        if done:\n",
    "            break\n",
    "        else:\n",
    "            action = a_next\n",
    "            s = env.state\n",
    "    update = np.sum(np.abs(np.nanmax(agent.Q, axis=1) - old_Q))\n",
    "    epoch += 1\n",
    "    agent.epsilon /= 2\n",
    "    print(epoch, update, len(s_a_history))\n",
    "    if epoch > 100 or update < step_eps:\n",
    "        break\n"
   ]
  },
  {
   "cell_type": "markdown",
   "metadata": {},
   "source": [
    "### Cart Pole"
   ]
  },
  {
   "cell_type": "code",
   "execution_count": null,
   "metadata": {},
   "outputs": [],
   "source": [
    "import numpy as np\n",
    "import gym\n",
    "import matplotlib.pyplot as plt\n",
    "import random\n",
    "from matplotlib import animation\n",
    "\n",
    "from JSAnimation.IPython_display import display_animation\n",
    "from IPython.display import display, HTML"
   ]
  },
  {
   "cell_type": "markdown",
   "metadata": {},
   "source": [
    "#### 重新认识 cartpole 环境\n",
    "- 小滑块/倒立板\n",
    "- 典型的 MDP（Markov Decision Process）\n",
    "  - 下一时刻的状态（转移）$s_{t + 1}$只跟当前状态$s_t$和$s_t$（当前状态下采取的动作）有关\n",
    "- action space is discrete and finite\n",
    "- state (observation) space is continuous"
   ]
  },
  {
   "cell_type": "markdown",
   "metadata": {},
   "source": [
    "#### One Episode"
   ]
  },
  {
   "cell_type": "code",
   "execution_count": null,
   "metadata": {},
   "outputs": [],
   "source": [
    "env = gym.make('CartPole-v0', render_mode=\"rgb_array\")\n",
    "state = env.reset()\n",
    "steps = 0\n",
    "frames = []\n",
    "while True:\n",
    "    frames.append(env.render())\n",
    "    action = env.action_space.sample()\n",
    "    observation, state, reward, done, info = env.step(action)\n",
    "    steps += 1\n",
    "    print(f'steps: {steps}, state: {observation}')\n",
    "    if done:\n",
    "        break"
   ]
  },
  {
   "cell_type": "code",
   "execution_count": null,
   "metadata": {},
   "outputs": [],
   "source": [
    "def display_frames_as_gif(frames, output):\n",
    "    fig = plt.figure(figsize=(frames[0].shape[1] / 72.0, frames[0].shape[0] / 72.0), dpi=72)\n",
    "    patch = plt.imshow(frames[0])\n",
    "    plt.axis('off')\n",
    "\n",
    "    def animate(i):\n",
    "        img = patch.set_data(frames[i])\n",
    "        return img\n",
    "    \n",
    "    anim = animation.FuncAnimation(plt.gcf(), animate, frames=len(frames), interval=50)\n",
    "    anim.save(output)\n",
    "    return HTML(anim.to_jshtml())"
   ]
  },
  {
   "cell_type": "code",
   "execution_count": null,
   "metadata": {},
   "outputs": [],
   "source": [
    "display_frames_as_gif(frames, output='rand_cartpole.gif')"
   ]
  },
  {
   "cell_type": "markdown",
   "metadata": {},
   "source": [
    "#### 状态离散化"
   ]
  },
  {
   "cell_type": "code",
   "execution_count": null,
   "metadata": {},
   "outputs": [],
   "source": [
    "NUM_DIGITIZED = 6\n",
    "\n",
    "# 分桶，5个值对应6个分段，即6个桶\n",
    "def bins(clip_min, clip_max, num_bins=NUM_DIGITIZED):\n",
    "    return np.linspace(clip_min, clip_max, num_bins + 1)[1:-1]\n",
    "\n",
    "# 按6进制映射，将4位6进制映射为id\n",
    "def digitize_state(observation):\n",
    "    pos, cart_v, angle, pole_v = observation\n",
    "    digitize = [\n",
    "        np.digitize(pos, bins=bins(-2.4, 2.4, NUM_DIGITIZED)),\n",
    "        np.digitize(cart_v, bins=bins(-3, 3, NUM_DIGITIZED)),\n",
    "        np.digitize(angle, bins=bins(-0.418, 0.418, NUM_DIGITIZED)),\n",
    "        np.digitize(pole_v, bins=bins(-2, 2, NUM_DIGITIZED)),\n",
    "    ]\n",
    "    ind = sum([d * (NUM_DIGITIZED ** i) for i, d in enumerate(digitize)])\n",
    "    return ind"
   ]
  },
  {
   "cell_type": "markdown",
   "metadata": {},
   "source": [
    "#### Q-Learning"
   ]
  },
  {
   "cell_type": "code",
   "execution_count": null,
   "metadata": {},
   "outputs": [],
   "source": [
    "class Agent:\n",
    "\n",
    "    def __init__(self, action_space, n_states, eta=0.5, gamma=0.09, NUM_DIGITIZED=6) -> None:\n",
    "        self.eta = eta\n",
    "        self.gamma = gamma\n",
    "        self.action_space = action_space\n",
    "        self.NUM_DIGITIZED = NUM_DIGITIZED\n",
    "        self.q_table = np.random.uniform(0, 1,size=(NUM_DIGITIZED ** n_states, self.action_space.n))\n",
    "\n",
    "    @staticmethod\n",
    "    # 分桶，5个值对应6个分段，即6个桶\n",
    "    def bins(clip_min, clip_max, num_bins):\n",
    "        return np.linspace(clip_min, clip_max, num_bins + 1)[1:-1]\n",
    "\n",
    "    # 按6进制映射，将4位6进制映射为id\n",
    "    @staticmethod\n",
    "    def digitize_state(observation, NUM_DIGITIZED):\n",
    "        pos, cart_v, angle, pole_v = observation\n",
    "        digitize = [\n",
    "            np.digitize(pos, bins=Agent.bins(-2.4, 2.4, NUM_DIGITIZED)),\n",
    "            np.digitize(cart_v, bins=Agent.bins(-3, 3, NUM_DIGITIZED)),\n",
    "            np.digitize(angle, bins=Agent.bins(-0.418, 0.418, NUM_DIGITIZED)),\n",
    "            np.digitize(pole_v, bins=Agent.bins(-2, 2, NUM_DIGITIZED)),\n",
    "        ]\n",
    "        ind = sum([d * (NUM_DIGITIZED ** i) for i, d in enumerate(digitize)])\n",
    "        return ind\n",
    "    \n",
    "    def q_learning(self, obs, action, reward, obs_next):\n",
    "        obs_ind = Agent.digitize_state(obs, self.NUM_DIGITIZED)\n",
    "        obs_next_ind = Agent.digitize_state(obs_next, self.NUM_DIGITIZED)\n",
    "        self.q_table[obs_ind, action] = self.q_table[obs_ind, action] +\\\n",
    "            self.eta * (reward + max(self.q_table[obs_next_ind, :]) - self.q_table[obs_ind, action])\n",
    "\n",
    "    def choose_action(self, state, episode):\n",
    "        eps = 0.5 * 1 / (episode + 1)\n",
    "        state_ind = Agent.digitize_state(state, self.NUM_DIGITIZED)\n",
    "        if random.random() < eps:\n",
    "            action = self.action_space.sample()\n",
    "        else:\n",
    "            action = np.argmax(self.q_table[state_ind, :])\n",
    "        return action\n"
   ]
  },
  {
   "cell_type": "code",
   "execution_count": null,
   "metadata": {},
   "outputs": [],
   "source": [
    "env = gym.make('CartPole-v0', render_mode=\"rgb_array\")\n",
    "env.reset()\n",
    "action_space = env.action_space\n",
    "n_states = env.observation_space.shape[0]\n",
    "agent = Agent(action_space, n_states)\n",
    "\n",
    "max_episode = 1000\n",
    "max_steps = 200\n",
    "\n",
    "continue_success_episodes = 0\n",
    "learning_finish_flag = False\n",
    "frames = []\n",
    "\n",
    "for episode in range(max_episode):\n",
    "    obs = env.reset()\n",
    "    obs = obs[0]\n",
    "    for step in range(max_steps):\n",
    "        if learning_finish_flag:\n",
    "            frames.append(env.render())\n",
    "        action = agent.choose_action(obs, episode)\n",
    "        obs_next, _, done, _, _ = env.step(action)\n",
    "        if done:\n",
    "            if step < 150:\n",
    "                reward -= 1\n",
    "                continue_success_episodes = 0\n",
    "            else:\n",
    "                reward = 1\n",
    "                continue_success_episodes += 1\n",
    "        else:\n",
    "            reward = 0\n",
    "\n",
    "        agent.q_learning(obs, action, reward, obs_next)\n",
    "        obs = obs_next\n",
    "\n",
    "        if done:\n",
    "            print(f'episode: {episode}, finish {step} time steps.')\n",
    "            break\n",
    "\n",
    "    if learning_finish_flag:\n",
    "        break\n",
    "    if continue_success_episodes >= 10:\n",
    "        learning_finish_flag = True\n",
    "        print(f'continue success(step > 195) more than 10 times.')\n"
   ]
  },
  {
   "cell_type": "code",
   "execution_count": null,
   "metadata": {},
   "outputs": [],
   "source": [
    "display_frames_as_gif(frames, output='q_learning_cartpole.gif')"
   ]
  },
  {
   "cell_type": "markdown",
   "metadata": {},
   "source": [
    "## DQN"
   ]
  },
  {
   "cell_type": "markdown",
   "metadata": {},
   "source": [
    "### Outline & Summary\n",
    "* Q-Learning => DQN(Deep Q Learning Network)\n",
    "* Q-Learning base q-table\n",
    "  * state 需要处理成离散的（discrete）\n",
    "  * q-table：行是 state，列是 action\n",
    "  * $Q(s, a)$：动作价值（value），不是概率分布\n",
    "  * $Q(s_t, a_t)$是在时刻$t$，状态$s_t$下采取的动作$a_t$时获得的折扣奖励总和（discounted total reward）\n",
    "  * Image（pixels）作为状态的话，状态变量的数量非常大\n",
    "* DQN：nn（state）=> action value\n",
    "  * q-table => q-function（拟合/回归，state vector 与 action value 的关系）\n",
    "  * 输入 & 输出：\n",
    "    * 输入（input）：state vector\n",
    "      * CartPole：4维向量（位置、速度、角度和角速度）\n",
    "    * 输出（output）：action space value, $Q(s_t, a_t)$\n",
    "      * shape：action space size\n",
    "      * CartPole：2维（left/right）\n",
    "  \n",
    "### DQN 算法\n",
    "\n",
    "$$\n",
    "\\begin{align}\n",
    "Q(s_t, a_t) &= Q(s_t, a_t) + \\eta \\cdot (R_{t + 1} + \\gamma \\max_a{Q(s_{t + 1}, a)} - Q(s_t, a_t)) \\\\\n",
    "Q(s_t, a_t) &= R_{t + 1} + \\gamma \\max_a{Q(s_{t + 1}, a)}\n",
    "\\end{align}\n",
    "$$\n",
    "\n",
    "* iteration algorithm\n",
    "* temporal difference error (TD): $R_{t + 1} + \\gamma \\max_a{Q(s_{t}, a)} - Q(s_t, a_t)$\n",
    "* learning objective\n",
    "  * MES (square loss): $E(s_t, a_t) = (R_{t + 1} + \\gamma \\max_a{Q(s_{t}, a)} - Q(s_t, a_t))^2$\n",
    "\n",
    "#### 几个核心技术\n",
    "\n",
    "* experience replay （经验回放）\n",
    "  * 不像 q-table 的 Q-Learning，每一步都学习（update）该步的内容（experience）\n",
    "    * 对于 q-table 而言，每一步（step）都学习该步内容，神经网络连续地学习时间上相关性高的内容（事实上，时间$t$的学习内容和时间$t + 1$的学习内容非常相似，这样的话收敛就会很慢）\n",
    "    * 而是将每一步（step）的内容存储在经验池（experience pool）并随即从经验池中提取内容（replay，回放）让 NN 学习\n",
    "      * 也可以使用批次（batch），使用经验池中的多个步骤的经验\n",
    "* loss function 使用 huber 而不是 square loss\n",
    "  * 误差很大时（$|\\delta| > 1$），平方差会导致误差函数的输出过大，导致学习难以确定\n",
    "\n",
    "$$\n",
    "\\mathcal{L}(\\delta) = \n",
    "\\begin{cases}\n",
    "\\frac{1}{2} \\delta ^2, & |\\delta| \\leq 1 \\\\\n",
    "|\\delta| - \\frac{1}{2}, & |\\delta| > 1\n",
    "\\end{cases}\n",
    "$$\n",
    "\n",
    "  $\\delta$就是$Q(s_t, a_t)$和$R_{t + 1} + \\gamma \\max_a{Q(s_{t + 1}, a)}$的差\n",
    "\n",
    "> 解决深度强化学习的稳定性问题"
   ]
  },
  {
   "cell_type": "code",
   "execution_count": 4,
   "metadata": {},
   "outputs": [
    {
     "data": {
      "text/plain": [
       "<matplotlib.legend.Legend at 0x2516c80d3a0>"
      ]
     },
     "execution_count": 4,
     "metadata": {},
     "output_type": "execute_result"
    },
    {
     "data": {
      "image/png": "[encoded data removed]",
      "text/plain": [
       "<Figure size 640x480 with 1 Axes>"
      ]
     },
     "metadata": {},
     "output_type": "display_data"
    }
   ],
   "source": [
    "import matplotlib.pyplot as plt\n",
    "import numpy as np\n",
    "\n",
    "def huber_loss(delta, beta=1):\n",
    "    if np.abs(delta) <= beta:\n",
    "        return 0.5 * delta ** 2 / beta\n",
    "    return abs(delta) - 0.5 * beta\n",
    "\n",
    "\n",
    "def square_loss(delta):\n",
    "    return 0.5 * delta ** 2\n",
    "\n",
    "deltas = np.arange(-5, 5, 0.01)\n",
    "plt.plot(deltas, [huber_loss(delta) for delta in deltas])\n",
    "plt.plot(deltas, [square_loss(delta) for delta in deltas])\n",
    "plt.xticks(np.arange(-5, 5, step=1))\n",
    "plt.legend(['huber loss', 'square loss'])"
   ]
  },
  {
   "cell_type": "markdown",
   "metadata": {},
   "source": [
    "### 实现\n",
    "#### experience replay\n",
    "- 构造批次化训练数据\n",
    "- 让整个训练过程更加稳定"
   ]
  },
  {
   "cell_type": "code",
   "execution_count": 1,
   "metadata": {},
   "outputs": [],
   "source": [
    "from collections import namedtuple\n",
    "from torch import nn\n",
    "from torch import optim\n",
    "import torch.nn.functional as F\n",
    "import torch\n",
    "import random"
   ]
  },
  {
   "cell_type": "code",
   "execution_count": 2,
   "metadata": {},
   "outputs": [],
   "source": [
    "# 可以使用关键字访问\n",
    "# s_t, a_t = s_{t + 1}\n",
    "Transition = namedtuple('Transition', ('state', 'action', 'next_state', 'reward'))"
   ]
  },
  {
   "cell_type": "code",
   "execution_count": 9,
   "metadata": {},
   "outputs": [
    {
     "name": "stdout",
     "output_type": "stream",
     "text": [
      "(tensor([1, 2, 3, 4]), tensor([1, 2, 3, 4]), tensor([1, 2, 3, 4]), tensor([1, 2, 3, 4]))\n"
     ]
    },
    {
     "data": {
      "text/plain": [
       "torch.Size([16])"
      ]
     },
     "execution_count": 9,
     "metadata": {},
     "output_type": "execute_result"
    }
   ],
   "source": [
    "t = []\n",
    "for i in range(32):\n",
    "    t.append(Transition(torch.tensor([1, 2, 3, 4]), 2, 3, 4))\n",
    "\n",
    "t = random.sample(t, 4)\n",
    "t = Transition(*zip(*t))\n",
    "print(t.state)\n",
    "state = torch.cat(t.state)\n",
    "state.shape"
   ]
  },
  {
   "cell_type": "markdown",
   "metadata": {},
   "source": [
    "每次和环境交互产生的一次Transition，都放到经验回放池中，用于批次化的训练，增加训练过程的稳定性"
   ]
  },
  {
   "cell_type": "code",
   "execution_count": 3,
   "metadata": {},
   "outputs": [],
   "source": [
    "class ReplayMemory:\n",
    "    def __init__(self, capacity) -> None:\n",
    "        self.capacity = capacity\n",
    "        self.memory = []\n",
    "        self.index = 0\n",
    "\n",
    "    def __len__(self):\n",
    "        return len(self.memory)\n",
    "    \n",
    "    def sample(self, batch_size):\n",
    "        return random.sample(self.memory, batch_size)\n",
    "    \n",
    "    def push(self, state, action, next_state, reward):\n",
    "        # 循环的往 memory 中 push\n",
    "        if len(self.memory) < self.capacity:\n",
    "            # 占位\n",
    "            self.memory.append(None)\n",
    "        self.memory[self.index] = Transition(state, action, next_state, reward)\n",
    "        self.index = (self.index + 1) % self.capacity"
   ]
  },
  {
   "cell_type": "code",
   "execution_count": 21,
   "metadata": {},
   "outputs": [],
   "source": [
    "# Q function base network\n",
    "class DQN(nn.Module):\n",
    "    def __init__(self, n_states, n_actions):\n",
    "        super(DQN, self).__init__()\n",
    "        self.fc1 = nn.Linear(n_states, 128)\n",
    "        self.fc2 = nn.Linear(128, 128)\n",
    "        self.fc3 = nn.Linear(128, n_actions)\n",
    "\n",
    "    def forward(self, x):\n",
    "        # x.shape: batch_size * n_states\n",
    "        layer1 = self.fc1(x)\n",
    "        layer1 = F.relu(layer1)\n",
    "        layer2 = self.fc2(layer1)\n",
    "        layer2 = F.relu(layer2)\n",
    "        layer3 = self.fc3(layer2)\n",
    "        return layer3"
   ]
  },
  {
   "cell_type": "markdown",
   "metadata": {},
   "source": [
    "#### Agent\n",
    "\n",
    "* 计算过程中 tensor shape 的变化以及 shape 的对齐"
   ]
  },
  {
   "cell_type": "code",
   "execution_count": 19,
   "metadata": {},
   "outputs": [],
   "source": [
    "class Agent:\n",
    "    def __init__(self, n_states, n_actions, eta=0.5, gamma=0.99, capacity=10000, batch_size=32):\n",
    "        self.n_states = n_states\n",
    "        self.n_actions = n_actions\n",
    "        self.eta = eta\n",
    "        self.gamma = gamma\n",
    "        self.batch_size = batch_size\n",
    "\n",
    "        self.memory = ReplayMemory(capacity)\n",
    "        self.model = DQN(n_states, n_actions)\n",
    "\n",
    "        self.optimizer = optim.Adam(self.model.parameters(), lr=0.0001)\n",
    "\n",
    "    def _replay(self):\n",
    "        if len(self.memory) < self.batch_size:\n",
    "            return\n",
    "        # list of transition\n",
    "        batch = self.memory.sample(self.batch_size)\n",
    "        # Transition, column: tuple -> len(tuple) == batch_size\n",
    "        batch = Transition(*zip(*batch))\n",
    "\n",
    "        # s_t.shape: batch_size * 4\n",
    "        state_batch = torch.cat(batch.state)\n",
    "        # a_t.shape: batch_size * 1\n",
    "        action_batch = torch.cat(batch.action)\n",
    "        # r_{t + 1}.shape: batch_size * 1\n",
    "        reward_batch = torch.cat(batch.reward)\n",
    "        # < batch_size\n",
    "        non_final_next_state_batch = torch.cat([s for s in batch.next_state if s is not None])\n",
    "\n",
    "        # 构造模型训练用的输入和输出\n",
    "        # s_t: input\n",
    "        # pred: Q(s_t, a_t)\n",
    "        # true; R_{t + 1} + \\gamma \\max_a{Q(s_{t + 1}, a)}\n",
    "\n",
    "        # 开启 eval 模式\n",
    "        self.model.eval()\n",
    "\n",
    "        # pred\n",
    "        state_action_values = self.model(state_batch).gather(dim=1, index=action_batch)\n",
    "        \n",
    "        # true; R_{t + 1} + \\gamma \\max_a{Q(s_{t + 1}, a)}\n",
    "        non_final_mask = torch.ByteTensor(tuple(map(lambda s: s is not None, batch.next_state)))\n",
    "        next_state_values = torch.zeros(self.batch_size)\n",
    "        next_state_values[non_final_mask] = self.model(non_final_next_state_batch).max(dim=1)[0].detach()\n",
    "        expected_state_action_values = reward_batch + self.gamma * next_state_values\n",
    "\n",
    "        # 开启 train mode\n",
    "        self.model.train()\n",
    "\n",
    "        # (batch_size, ) => (batch_size, 1)\n",
    "        loss = F.smooth_l1_loss(state_action_values, expected_state_action_values.unsqueeze(1))\n",
    "\n",
    "        self.optimizer.zero_grad()\n",
    "        loss.backward()\n",
    "        self.optimizer.step()\n",
    "\n",
    "    def update_q_function(self):\n",
    "        self._replay()\n",
    "\n",
    "    # action policy\n",
    "    # epsilon greedy\n",
    "    # double e: explore, exploit\n",
    "    def choose_action(self, state, episode):\n",
    "        eps = 0.5 * 1 /  (1 + episode)\n",
    "        if random.random() < eps:\n",
    "            action = torch.IntTensor([[random.randrange(self.n_actions)]])\n",
    "        else:\n",
    "            self.model.eval()\n",
    "            with torch.no_grad():\n",
    "                action = self.model(state).max(1)[1].view(1, 1)\n",
    "\n",
    "        return action\n",
    "    \n",
    "    def memorize(self, state, action, next_state, reward):\n",
    "        self.memory.push(state, action, next_state, reward)"
   ]
  },
  {
   "cell_type": "markdown",
   "metadata": {},
   "source": [
    "Agent 与 env 进行交互"
   ]
  },
  {
   "cell_type": "code",
   "execution_count": 6,
   "metadata": {},
   "outputs": [
    {
     "data": {
      "text/plain": [
       "'0.26.2'"
      ]
     },
     "execution_count": 6,
     "metadata": {},
     "output_type": "execute_result"
    }
   ],
   "source": [
    "import gym\n",
    "gym.__version__"
   ]
  },
  {
   "cell_type": "code",
   "execution_count": null,
   "metadata": {},
   "outputs": [],
   "source": [
    "env = gym.make('CartPole-v1', render_mode=\"rgb_array\")\n",
    "n_states = env.observation_space.shape[0]\n",
    "n_actions = env.action_space.n\n",
    "\n",
    "max_episode = 500\n",
    "max_steps = 200\n",
    "complete_episode = 0\n",
    "\n",
    "agent = Agent(n_states, n_actions)\n",
    "\n",
    "for episode in range(max_episode):\n",
    "    state = env.reset()\n",
    "    state = torch.from_numpy(state[0]).type(torch.FloatTensor).unsqueeze(0)\n",
    "    for step in range(max_steps):\n",
    "        # IntTensor of 1 * 1\n",
    "        action = agent.choose_action(state, episode)\n",
    "\n",
    "        # transition on env\n",
    "        next_state, _, done, _, _ = env.step(action.item())\n",
    "\n",
    "        if done:\n",
    "            next_state = None\n",
    "            if step < 195:\n",
    "                reward = torch.FloatTensor([-1, 1])\n",
    "                complete_episode = 0\n",
    "            else:\n",
    "                reward = torch.FloatTensor([1.])\n",
    "                complete_episode += 1\n",
    "        else:\n",
    "            reward = torch.FloatTensor([0])\n",
    "            next_state = torch.from_numpy(next_state).type(torch.FloatTensor)\n",
    "            next_state = next_state.unsqueeze(0)\n",
    "        agent.memorize(state, action, next_state, reward)\n",
    "        state = next_state\n",
    "\n",
    "        if done:\n",
    "            print(f'episode: {episode}, steps: {step}')\n",
    "            break\n",
    "\n",
    "    if complete_episode >= 10:\n",
    "        print('连续成功10轮')\n",
    "        break\n"
   ]
  },
  {
   "cell_type": "markdown",
   "metadata": {},
   "source": [
    "### Deep policy gradient on cartpole\n",
    "\n",
    "#### Summary\n",
    "\n",
    "* Q Learning => DQN\n",
    "  * deep networks 去逼近 Q function (action value)，回归问题\n",
    "  * 输出的不是概率，而是 action value\n",
    "* Policy Gradient => Deep Policy Gradient\n",
    "  * deep networks 去逼近$\\pi_{\\theta}(a_t|s_t)$\n",
    "  * 输出的是概率分布，所以最后一层要加 softmax 做概率化\n",
    "  * 算法：[REINFORCE](http://www.cs.toronto.edu/~tingwuwang/REINFORCE.pdf)\n",
    "\n",
    "#### Policy Network\n",
    "\n",
    "##### REINFORCE\n",
    "\n",
    "* * *\n",
    "\n",
    "`function REINFORCE`<br>\n",
    "    $\\qquad$ Initialize $\\theta$ arbitrarily<br>\n",
    "    $\\qquad$`for` each episode $\\{ s_1, a_1, r_2, \\cdots, s_{T - 1}, a_{T - 1}, r_t \\} \\sim \\pi_{\\theta}$ `do`<br>\n",
    "        $\\qquad\\qquad$ `for` $t = 1$ to $T - 1$ `do`<br>\n",
    "            $\\qquad\\qquad\\qquad \\theta \\leftarrow \\theta + \\alpha \\nabla_{\\theta} \\mathbf{log} \\pi_{\\theta}(s_t, a_t)v_t$<br>\n",
    "        $\\qquad\\qquad$`end for`<br>\n",
    "    $\\qquad$`end for`<br>\n",
    "    $\\qquad$`return` $\\theta$<br>\n",
    "`end function`\n",
    "* * *\n",
    "\n",
    "##### Total discounted future returned reward\n",
    "\n",
    "* * *\n",
    "Calculate the total returned reward $v_t$ or $G_t$<br>\n",
    "    $\\qquad v_t$ or $G_t = \\mathbf{sum}(r_t \\enspace \\text{to} \\enspace r_T)$<br>\n",
    "Example:<br>\n",
    "    $\\qquad v_0$ or $G_0 = r_0 + \\gamma r_1 + \\gamma^2 r_2 + \\gamma^3r_3 +\\gamma^4 r_4 + \\cdots + \\gamma^{T - 1} r_{T - 1} + \\gamma^T r_T$<br>\n",
    "    $\\qquad v_1$ or $G_1 = \\gamma r_1 + \\gamma^2 r_2 + \\gamma^3 r_3 + \\gamma^4 r_4 + \\cdots + \\gamma^{T - 1} r_{T - 1} + \\gamma^T r_T$<br>\n",
    "    $\\qquad v_2$ or $G_2 = \\gamma^2 r_2 + \\gamma^3 r_3 + \\gamma^4 r_4 + \\cdots + \\gamma^{T - 1} r_{T - 1} + \\gamma^T r_T$<br>\n",
    "    $\\qquad \\cdots$<br>\n",
    "    $\\qquad v_T$ or $G_T = \\gamma^T r_T$<br>\n",
    "* * *\n",
    "\n",
    "$$\n",
    "\\sum_t{ \\nabla_{\\theta} \\mathbf{log} \\pi_{\\theta}(a_t|s_t)G_t}\n",
    "$$\n",
    "\n",
    "> 上述的梯度更新的公式是最大化总 reward 的期望，而神经网络是最小化一个目标\n",
    "\n",
    "* $v_t = G_t = \\sum_{k = 0}^{\\infty}{\\gamma^kR_{t + k + 1}}$\n",
    "  * discounted future reward\n",
    "  * 当前动作的 reward 通过基于当前状态的未来 reward 折现进行估计\n",
    "  * 把未来的动作的奖励折现，来衡量当前动作的奖励偏差\n",
    "* Policy gradient algorithm\n",
    "  * Perform a trajectory/roll-out(mcts 中的概念) using the current policy (fixed $\\pi_{\\theta}(a_t|s_t)$ 神经网络来表示)\n",
    "    * trajectory: $\\tau = (s_1, a_1, r_2, s_2, a_2, r_3, \\cdots)$\n",
    "\n",
    "      ```python\n",
    "      s = env.reset()\n",
    "      a, log_p = policy(s) # 返回 action 和 action 对应的概率\n",
    "      next_state, reward, done, _ = env.step(a)\n",
    "      if done == True:\n",
    "        break\n",
    "      s = next_state\n",
    "      ```\n",
    "    \n",
    "    * Store $\\mathbf{log}$ probabilities (of policy, $\\mathbf{log}\\pi_{\\theta}(a_t|s_t)$) and reward values at each step\n",
    "      * 概率通过 policy network 获得\n",
    "  * Calculate discounted cumulative future reward ($G_t$) at each step\n",
    "  * Compute policy gradient($\\nabla\\mathbf{J}(\\theta)$) and update policy parameter (gradient decent)\n",
    "    * 反向传播，梯度更新是神经网络完成的\n",
    "    * $\\text{loss} = -\\sum_t{\\mathbf{log}(\\pi_{\\theta}(a_t|s_t))G_t}$\n",
    "    * `loss.backward()`\n",
    "  * Repeat 1 - 3\n"
   ]
  },
  {
   "cell_type": "markdown",
   "metadata": {},
   "source": [
    "#### Policy Network"
   ]
  },
  {
   "cell_type": "code",
   "execution_count": 15,
   "metadata": {},
   "outputs": [],
   "source": [
    "import torch\n",
    "from torch import nn\n",
    "from torch import optim\n",
    "from torch import autograd\n",
    "from matplotlib import pyplot as plt\n",
    "import torch.nn.functional as F\n",
    "import numpy as np\n",
    "import gym"
   ]
  },
  {
   "cell_type": "code",
   "execution_count": 3,
   "metadata": {},
   "outputs": [],
   "source": [
    "class PolicyNetwork(nn.Module):\n",
    "    def __init__(self, num_states, num_actions, hidden_size, learning_rate=1e-4):\n",
    "        super(PolicyNetwork, self).__init__()\n",
    "        self.num_actions = num_actions\n",
    "        self.fc1 = nn.Linear(num_states, hidden_size)\n",
    "        self.fc2 = nn.Linear(hidden_size, num_actions)\n",
    "        self.optimizer = optim.Adam(self.parameters(), lr=learning_rate)\n",
    "\n",
    "    def forward(self, x):\n",
    "        # x: state 批次化, x.shape == (batch, num_states), batch: 一次完整的 trajectory 经历的 steps\n",
    "        x = F.relu(self.fc1(x))\n",
    "        x = F.softmax(self.fc2(x), dim=1)\n",
    "        # return: (batch, num_action), 行和为 1，概率化输出\n",
    "        return x\n",
    "    \n",
    "    def choose_action(self, state):\n",
    "        # given state\n",
    "        # state.shape (4, ), 1d numpy ndarray 一维的行向量 -> (1, 4) 一行四列的向量\n",
    "        state = torch.from_numpy(state).float().unsqueeze(0)\n",
    "        # probs = self.forward(autograd.Variable(state))\n",
    "        probs = self.forward(state)\n",
    "        # 依概率采样\n",
    "        highest_prob_action = np.random.choice(self.num_actions, p=np.squeeze(probs.detach().numpy()))\n",
    "        # 把概率转换成 log_p\n",
    "        log_prob = torch.log(probs.squeeze(0)[highest_prob_action])\n",
    "        # log_p < 0，p 本身是小于 0 的，所以 log_p < 0\n",
    "        return highest_prob_action, log_prob\n"
   ]
  },
  {
   "cell_type": "markdown",
   "metadata": {},
   "source": [
    "#### Discounted Future Reward"
   ]
  },
  {
   "cell_type": "code",
   "execution_count": 4,
   "metadata": {},
   "outputs": [],
   "source": [
    "GAMMA = 0.9"
   ]
  },
  {
   "cell_type": "markdown",
   "metadata": {},
   "source": [
    "$$G_t = \\sum_{k = 0}^{\\infty}{\\gamma^kR_{t + k + 1}}$$"
   ]
  },
  {
   "cell_type": "code",
   "execution_count": 18,
   "metadata": {},
   "outputs": [],
   "source": [
    "# rewards 由一次 episode 的 trajectory 产生\n",
    "def discounted_future_reward(rewards):\n",
    "    discounted_rewards = []\n",
    "    for t in range(len(rewards)):\n",
    "        G_t = 0\n",
    "        pw = 0\n",
    "        for r in rewards[t:]:\n",
    "            G_t += (GAMMA ** pw) * r\n",
    "            pw += 1\n",
    "        discounted_rewards.append(G_t)\n",
    "    return discounted_rewards"
   ]
  },
  {
   "cell_type": "markdown",
   "metadata": {},
   "source": [
    "#### Update Policy"
   ]
  },
  {
   "cell_type": "code",
   "execution_count": 6,
   "metadata": {},
   "outputs": [],
   "source": [
    "def update_policy(policy_network, rewards, log_probs):\n",
    "    # len(rewards) == len(log_probs)\n",
    "    # G_t\n",
    "    discounted_rewards = discounted_future_reward(rewards)\n",
    "\n",
    "    # normalize discounted rewards => stability\n",
    "    discounted_rewards = torch.tensor(discounted_rewards)\n",
    "    discounted_rewards = (discounted_rewards - discounted_rewards.mean()) / (discounted_rewards.std() + 1e-9)\n",
    "\n",
    "    policy_grads = []\n",
    "    for log_prob, G_t in zip(log_probs, discounted_rewards):\n",
    "        policy_grads.append(-log_prob * G_t)\n",
    "\n",
    "    policy_network.optimizer.zero_grad()\n",
    "    policy_grad = torch.stack(policy_grads).sum()\n",
    "    policy_grad.backward()\n",
    "    policy_network.optimizer.step()"
   ]
  },
  {
   "cell_type": "markdown",
   "metadata": {},
   "source": [
    "#### 数据源"
   ]
  },
  {
   "cell_type": "code",
   "execution_count": null,
   "metadata": {},
   "outputs": [],
   "source": [
    "env = gym.make('CartPole-v1', render_mode=\"rgb_array\")\n",
    "policy_net = PolicyNetwork(env.observation_space.shape[0], env.action_space.n, 128)\n",
    "\n",
    "max_episode = 3000\n",
    "max_steps = 500\n",
    "\n",
    "num_steps = []\n",
    "avg_num_steps = []\n",
    "all_rewards = []\n",
    "\n",
    "for episode in range(max_episode):\n",
    "    state = env.reset()\n",
    "    state = state[0]\n",
    "    log_probs = []\n",
    "    rewards = []\n",
    "    for step in range(max_steps):\n",
    "        action, log_prob = policy_net.choose_action(state)\n",
    "        next_state, reward, done, _, _ = env.step(action)\n",
    "\n",
    "        log_probs.append(log_prob)\n",
    "        rewards.append(reward)\n",
    "\n",
    "        if done:\n",
    "            # 完成一次 episode/rollout，得到一次完整 trajectory\n",
    "            update_policy(policy_net, rewards, log_probs)\n",
    "            num_steps.append(step)\n",
    "            avg_num_steps.append(np.mean(num_steps[-10:]))\n",
    "            all_rewards.append(sum(rewards))\n",
    "            if episode % 50 == 0:\n",
    "                print(f'episode: {episode}, total reward: {sum(rewards)}, average reward: {np.mean(all_rewards)}, length: {step}')\n",
    "            break\n",
    "        state = next_state"
   ]
  },
  {
   "cell_type": "code",
   "execution_count": 27,
   "metadata": {},
   "outputs": [
    {
     "data": {
      "image/png": "[encoded data removed]",
      "text/plain": [
       "<Figure size 640x480 with 1 Axes>"
      ]
     },
     "metadata": {},
     "output_type": "display_data"
    }
   ],
   "source": [
    "plt.plot(num_steps)\n",
    "plt.plot(avg_num_steps)\n",
    "plt.xlabel('episode')\n",
    "plt.show()"
   ]
  }
 ],
 "metadata": {
  "kernelspec": {
   "display_name": "pytorch",
   "language": "python",
   "name": "python3"
  },
  "language_info": {
   "codemirror_mode": {
    "name": "ipython",
    "version": 3
   },
   "file_extension": ".py",
   "mimetype": "text/x-python",
   "name": "python",
   "nbconvert_exporter": "python",
   "pygments_lexer": "ipython3",
   "version": "3.9.19"
  }
 },
 "nbformat": 4,
 "nbformat_minor": 2
}
