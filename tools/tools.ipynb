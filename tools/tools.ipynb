{
 "cells": [
  {
   "cell_type": "code",
   "execution_count": 1,
   "id": "77d98bd5",
   "metadata": {},
   "outputs": [],
   "source": [
    "import pandas as pd\n",
    "from datetime import datetime\n",
    "from pandas import DataFrame\n",
    "from tabulate import tabulate\n",
    "from IPython.core.display import HTML\n",
    "import time\n",
    "import json\n",
    "import os"
   ]
  },
  {
   "cell_type": "code",
   "execution_count": 2,
   "id": "f164ac48",
   "metadata": {
    "scrolled": false
   },
   "outputs": [],
   "source": [
    "template_head = '{{% echarts 600 \\'85%\\' %}}\\noption = {{\\n    backgroundColor: \\'#2c343c\\', title: [{{text: \\'{0}\\', left: \\'center\\', top: 20, textStyle: {{color: \\'#ccc\\'}}}}, {1}, {2}, {3}, {4}], tooltip: {{trigger: \\'item\\'}}, visualMap: {{show: false, min: 1000, max: 5000, inRange: {{colorLightness: [0.8, 0.2]}}}},\\n    series: [\\n\\n    ]\\n}};\\n{{% endecharts %}}'\n",
    "template_sub_text = '{{subtext: \\'{0}\\', left: \\'{1}\\', top: \\'{2}\\', textAlign: \\'center\\', fontSize: 20, textStyle: {{color: \\'#ccc\\'}}}}'\n",
    "template_series = '{{name: \\'详细信息\\', type: \\'pie\\', radius: \\'20%\\', center: {0}, {1}, roseType: \\'radius\\', label: {{color: \\'rgba(255, 255, 255, 0.3)\\'}}, labelLine: {{lineStyle: {{color: \\'rgba(255, 255, 255, 0.3)\\'}}, smooth: 0.2, length: 10, length2: 20}}, itemStyle: {{color: \\'{2}\\', shadowBlur: 200, shadowColor: \\'rgba(0, 0, 0, 0.5)\\'}}, animationType: \\'scale\\', animationEasing: \\'elasticOut\\', animationDelay: function (idx) {{return Math.random() * 200;}}}},'\n",
    "template_data_set = 'data: [{0}].sort(function (a, b) {{return a.value - b.value;}})'\n",
    "template_data = '{{value: {0}, name: \\'{1}\\', tooltip: {{formatter: \\'{{b}}:&lt;br/&gt;{2}total: {{c}}kg\\'}}}},'\n",
    "template_item = '{0}kg × {1}&lt;br/&gt;'\n",
    "define_parts = {\n",
    "    '胸':{\n",
    "        'part' : '胸',\n",
    "        'left' : '25%',\n",
    "        'top' : '45%',\n",
    "        'center' : '[\\'25%\\', \\'30%\\']',\n",
    "        'color' : '#800020',\n",
    "    },\n",
    "    '背':{\n",
    "        'part' : '背',\n",
    "        'left' : '75%',\n",
    "        'top' : '45%',\n",
    "        'center' : '[\\'75%\\', \\'30%\\']',\n",
    "        'color' : '#CFB64A',\n",
    "    },\n",
    "    '手臂':{\n",
    "        'part' : '手臂',\n",
    "        'left' : '25%',\n",
    "        'top' : '90%',\n",
    "        'center' : '[\\'25%\\', \\'75%\\']',\n",
    "        'color' : '#407D52',\n",
    "    },\n",
    "    '腿':{\n",
    "        'part' : '腿',\n",
    "        'left' : '75%',\n",
    "        'top' : '90%',\n",
    "        'center' : '[\\'75%\\', \\'75%\\']',\n",
    "        'color' : '#0095B6',\n",
    "    },\n",
    "}\n",
    "defien_part_type = ['胸', '背', '手臂', '腿']\n",
    "pd.set_option('max_colwidth', 2000)\n",
    "pd.set_option('display.unicode.east_asian_width', True)"
   ]
  },
  {
   "cell_type": "code",
   "execution_count": 3,
   "id": "82b9909f",
   "metadata": {},
   "outputs": [],
   "source": [
    "def filter_pd_data(_type, raw):\n",
    "    ret = {}\n",
    "    for index, row in raw.iterrows():\n",
    "        key = row[_type]\n",
    "        if key not in ret:\n",
    "            ret[key] = []\n",
    "        ret[key].append(row)\n",
    "    return ret"
   ]
  },
  {
   "cell_type": "code",
   "execution_count": 4,
   "id": "d8c2922c",
   "metadata": {
    "scrolled": false
   },
   "outputs": [
    {
     "data": {
      "text/html": [
       "<style type=\"text/css\">\n",
       "#T_825b1_ th {\n",
       "  text-align: center;\n",
       "}\n",
       "#T_825b1_row0_col0, #T_825b1_row0_col1, #T_825b1_row1_col0, #T_825b1_row1_col1, #T_825b1_row2_col0, #T_825b1_row2_col1, #T_825b1_row3_col0, #T_825b1_row3_col1, #T_825b1_row4_col0, #T_825b1_row4_col1, #T_825b1_row5_col0, #T_825b1_row5_col1, #T_825b1_row6_col0, #T_825b1_row6_col1, #T_825b1_row7_col0, #T_825b1_row7_col1, #T_825b1_row8_col0, #T_825b1_row8_col1, #T_825b1_row9_col0, #T_825b1_row9_col1, #T_825b1_row10_col0, #T_825b1_row10_col1, #T_825b1_row11_col0, #T_825b1_row11_col1, #T_825b1_row12_col0, #T_825b1_row12_col1, #T_825b1_row13_col0, #T_825b1_row13_col1, #T_825b1_row14_col0, #T_825b1_row14_col1 {\n",
       "  text-align: left;\n",
       "}\n",
       "</style>\n",
       "<table id=\"T_825b1_\">\n",
       "  <thead>\n",
       "    <tr>\n",
       "      <th class=\"blank level0\" >&nbsp;</th>\n",
       "      <th class=\"col_heading level0 col0\" >Date</th>\n",
       "      <th class=\"col_heading level0 col1\" >Formatter</th>\n",
       "    </tr>\n",
       "  </thead>\n",
       "  <tbody>\n",
       "    <tr>\n",
       "      <th id=\"T_825b1_level0_row0\" class=\"row_heading level0 row0\" >0</th>\n",
       "      <td id=\"T_825b1_row0_col0\" class=\"data row0 col0\" >2021/11/25</td>\n",
       "      <td id=\"T_825b1_row0_col1\" class=\"data row0 col1\" >{name: '详细信息', type: 'pie', radius: '20%', center: ['75%', '75%'], data: [{value: 7200.0, name: '腿举', tooltip: {formatter: '{b}:&lt;br/&gt;120.0kg × 10&lt;br/&gt;140.0kg × 10&lt;br/&gt;140.0kg × 10&lt;br/&gt;160.0kg × 10&lt;br/&gt;160.0kg × 10&lt;br/&gt;total: {c}kg'}},{value: 2120.0, name: '直腿硬拉', tooltip: {formatter: '{b}:&lt;br/&gt;60.0kg × 8&lt;br/&gt;80.0kg × 8&lt;br/&gt;100.0kg × 3&lt;br/&gt;100.0kg × 4&lt;br/&gt;100.0kg × 3&lt;br/&gt;total: {c}kg'}},{value: 2980.0, name: '自由深蹲', tooltip: {formatter: '{b}:&lt;br/&gt;60.0kg × 8&lt;br/&gt;80.0kg × 8&lt;br/&gt;100.0kg × 3&lt;br/&gt;100.0kg × 3&lt;br/&gt;100.0kg × 3&lt;br/&gt;60.0kg × 8&lt;br/&gt;60.0kg × 8&lt;br/&gt;total: {c}kg'}},{value: 1632.0, name: '坐姿腿屈伸', tooltip: {formatter: '{b}:&lt;br/&gt;34.0kg × 12&lt;br/&gt;34.0kg × 12&lt;br/&gt;34.0kg × 12&lt;br/&gt;34.0kg × 12&lt;br/&gt;total: {c}kg'}},{value: 3168.0, name: '罗马挺', tooltip: {formatter: '{b}:&lt;br/&gt;66.0kg × 12&lt;br/&gt;66.0kg × 12&lt;br/&gt;66.0kg × 12&lt;br/&gt;66.0kg × 12&lt;br/&gt;total: {c}kg'}},].sort(function (a, b) {return a.value - b.value;}), roseType: 'radius', label: {color: 'rgba(255, 255, 255, 0.3)'}, labelLine: {lineStyle: {color: 'rgba(255, 255, 255, 0.3)'}, smooth: 0.2, length: 10, length2: 20}, itemStyle: {color: '#0095B6', shadowBlur: 200, shadowColor: 'rgba(0, 0, 0, 0.5)'}, animationType: 'scale', animationEasing: 'elasticOut', animationDelay: function (idx) {return Math.random() * 200;}},</td>\n",
       "    </tr>\n",
       "    <tr>\n",
       "      <th id=\"T_825b1_level0_row1\" class=\"row_heading level0 row1\" >1</th>\n",
       "      <td id=\"T_825b1_row1_col0\" class=\"data row1 col0\" >2021/11/29</td>\n",
       "      <td id=\"T_825b1_row1_col1\" class=\"data row1 col1\" >{name: '详细信息', type: 'pie', radius: '20%', center: ['25%', '30%'], data: [{value: 2300.0, name: '仰卧杠铃卧推', tooltip: {formatter: '{b}:&lt;br/&gt;60.0kg × 8&lt;br/&gt;60.0kg × 8&lt;br/&gt;60.0kg × 8&lt;br/&gt;60.0kg × 6&lt;br/&gt;60.0kg × 6&lt;br/&gt;70.0kg × 2&lt;br/&gt;total: {c}kg'}},{value: 1980.0, name: '上斜器械推举', tooltip: {formatter: '{b}:&lt;br/&gt;30.0kg × 12&lt;br/&gt;30.0kg × 12&lt;br/&gt;30.0kg × 12&lt;br/&gt;40.0kg × 10&lt;br/&gt;50.0kg × 10&lt;br/&gt;total: {c}kg'}},{value: 1320.0, name: '窄距哑铃推举', tooltip: {formatter: '{b}:&lt;br/&gt;30.0kg × 12&lt;br/&gt;30.0kg × 12&lt;br/&gt;30.0kg × 10&lt;br/&gt;30.0kg × 10&lt;br/&gt;total: {c}kg'}},{value: 2600.0, name: '双杠臂屈伸', tooltip: {formatter: '{b}:&lt;br/&gt;65.0kg × 10&lt;br/&gt;65.0kg × 10&lt;br/&gt;65.0kg × 10&lt;br/&gt;65.0kg × 10&lt;br/&gt;total: {c}kg'}},{value: 1100.0, name: '站姿高位拉锁夹胸', tooltip: {formatter: '{b}:&lt;br/&gt;30.0kg × 10&lt;br/&gt;30.0kg × 10&lt;br/&gt;30.0kg × 10&lt;br/&gt;20.0kg × 10&lt;br/&gt;total: {c}kg'}},{value: 2925.0, name: '悬垂卷腹', tooltip: {formatter: '{b}:&lt;br/&gt;65.0kg × 15&lt;br/&gt;65.0kg × 15&lt;br/&gt;65.0kg × 15&lt;br/&gt;total: {c}kg'}},{value: 2475.0, name: '跪姿拉索卷腹', tooltip: {formatter: '{b}:&lt;br/&gt;55.0kg × 15&lt;br/&gt;55.0kg × 15&lt;br/&gt;55.0kg × 15&lt;br/&gt;total: {c}kg'}},].sort(function (a, b) {return a.value - b.value;}), roseType: 'radius', label: {color: 'rgba(255, 255, 255, 0.3)'}, labelLine: {lineStyle: {color: 'rgba(255, 255, 255, 0.3)'}, smooth: 0.2, length: 10, length2: 20}, itemStyle: {color: '#800020', shadowBlur: 200, shadowColor: 'rgba(0, 0, 0, 0.5)'}, animationType: 'scale', animationEasing: 'elasticOut', animationDelay: function (idx) {return Math.random() * 200;}},</td>\n",
       "    </tr>\n",
       "    <tr>\n",
       "      <th id=\"T_825b1_level0_row2\" class=\"row_heading level0 row2\" >2</th>\n",
       "      <td id=\"T_825b1_row2_col0\" class=\"data row2 col0\" >2021/11/30</td>\n",
       "      <td id=\"T_825b1_row2_col1\" class=\"data row2 col1\" >{name: '详细信息', type: 'pie', radius: '20%', center: ['75%', '30%'], data: [{value: 2745.0, name: '宽握引体向上', tooltip: {formatter: '{b}:&lt;br/&gt;65.0kg × 10&lt;br/&gt;65.0kg × 8&lt;br/&gt;65.0kg × 8&lt;br/&gt;65.0kg × 7&lt;br/&gt;75.0kg × 4&lt;br/&gt;75.0kg × 4&lt;br/&gt;total: {c}kg'}},{value: 2400.0, name: '俯身杠铃划船', tooltip: {formatter: '{b}:&lt;br/&gt;60.0kg × 10&lt;br/&gt;60.0kg × 10&lt;br/&gt;60.0kg × 10&lt;br/&gt;60.0kg × 10&lt;br/&gt;total: {c}kg'}},{value: 4250.0, name: '坐姿拉索划船', tooltip: {formatter: '{b}:&lt;br/&gt;65.0kg × 10&lt;br/&gt;75.0kg × 12&lt;br/&gt;75.0kg × 12&lt;br/&gt;75.0kg × 12&lt;br/&gt;75.0kg × 12&lt;br/&gt;total: {c}kg'}},{value: 2800.0, name: '高位宽握下拉', tooltip: {formatter: '{b}:&lt;br/&gt;65.0kg × 10&lt;br/&gt;75.0kg × 10&lt;br/&gt;75.0kg × 10&lt;br/&gt;65.0kg × 10&lt;br/&gt;total: {c}kg'}},{value: 2000.0, name: '器械坐姿划船', tooltip: {formatter: '{b}:&lt;br/&gt;40.0kg × 10&lt;br/&gt;40.0kg × 10&lt;br/&gt;40.0kg × 10&lt;br/&gt;40.0kg × 10&lt;br/&gt;20.0kg × 20&lt;br/&gt;total: {c}kg'}},{value: 750.0, name: '直臂下压', tooltip: {formatter: '{b}:&lt;br/&gt;15.0kg × 10&lt;br/&gt;15.0kg × 10&lt;br/&gt;20.0kg × 10&lt;br/&gt;25.0kg × 10&lt;br/&gt;total: {c}kg'}},{value: 2250.0, name: '坐姿卷腹', tooltip: {formatter: '{b}:&lt;br/&gt;30.0kg × 25&lt;br/&gt;30.0kg × 25&lt;br/&gt;30.0kg × 25&lt;br/&gt;total: {c}kg'}},{value: 1000.0, name: '俄式转体', tooltip: {formatter: '{b}:&lt;br/&gt;10.0kg × 50&lt;br/&gt;10.0kg × 50&lt;br/&gt;total: {c}kg'}},].sort(function (a, b) {return a.value - b.value;}), roseType: 'radius', label: {color: 'rgba(255, 255, 255, 0.3)'}, labelLine: {lineStyle: {color: 'rgba(255, 255, 255, 0.3)'}, smooth: 0.2, length: 10, length2: 20}, itemStyle: {color: '#CFB64A', shadowBlur: 200, shadowColor: 'rgba(0, 0, 0, 0.5)'}, animationType: 'scale', animationEasing: 'elasticOut', animationDelay: function (idx) {return Math.random() * 200;}},</td>\n",
       "    </tr>\n",
       "    <tr>\n",
       "      <th id=\"T_825b1_level0_row3\" class=\"row_heading level0 row3\" >3</th>\n",
       "      <td id=\"T_825b1_row3_col0\" class=\"data row3 col0\" >2021/12/01</td>\n",
       "      <td id=\"T_825b1_row3_col1\" class=\"data row3 col1\" >{name: '详细信息', type: 'pie', radius: '20%', center: ['25%', '75%'], data: [{value: 1050.0, name: '站姿杠铃弯举', tooltip: {formatter: '{b}:&lt;br/&gt;25.0kg × 8&lt;br/&gt;25.0kg × 10&lt;br/&gt;25.0kg × 8&lt;br/&gt;20.0kg × 12&lt;br/&gt;20.0kg × 8&lt;br/&gt;total: {c}kg'}},{value: 1265.0, name: '绳索三头下拉', tooltip: {formatter: '{b}:&lt;br/&gt;30.0kg × 10&lt;br/&gt;30.0kg × 8&lt;br/&gt;25.0kg × 10&lt;br/&gt;25.0kg × 10&lt;br/&gt;20.0kg × 5&lt;br/&gt;15.0kg × 5&lt;br/&gt;10.0kg × 5&lt;br/&gt;total: {c}kg'}},{value: 600.0, name: '交替哑铃弯举', tooltip: {formatter: '{b}:&lt;br/&gt;12.5kg × 12&lt;br/&gt;12.5kg × 12&lt;br/&gt;12.5kg × 12&lt;br/&gt;12.5kg × 12&lt;br/&gt;total: {c}kg'}},{value: 800.0, name: '俯身哑铃臂屈伸', tooltip: {formatter: '{b}:&lt;br/&gt;20.0kg × 10&lt;br/&gt;20.0kg × 10&lt;br/&gt;20.0kg × 10&lt;br/&gt;20.0kg × 10&lt;br/&gt;total: {c}kg'}},{value: 1560.0, name: '坐姿哑铃推举', tooltip: {formatter: '{b}:&lt;br/&gt;30.0kg × 12&lt;br/&gt;30.0kg × 12&lt;br/&gt;30.0kg × 10&lt;br/&gt;30.0kg × 10&lt;br/&gt;30.0kg × 8&lt;br/&gt;total: {c}kg'}},{value: 930.0, name: '站姿哑铃侧平举', tooltip: {formatter: '{b}:&lt;br/&gt;15.0kg × 10&lt;br/&gt;10.0kg × 10&lt;br/&gt;6.0kg × 10&lt;br/&gt;15.0kg × 10&lt;br/&gt;10.0kg × 10&lt;br/&gt;6.0kg × 10&lt;br/&gt;15.0kg × 10&lt;br/&gt;10.0kg × 10&lt;br/&gt;6.0kg × 10&lt;br/&gt;total: {c}kg'}},{value: 300.0, name: '站姿俯身哑铃飞鸟', tooltip: {formatter: '{b}:&lt;br/&gt;10.0kg × 10&lt;br/&gt;10.0kg × 10&lt;br/&gt;10.0kg × 10&lt;br/&gt;total: {c}kg'}},{value: 2475.0, name: '跪姿拉索卷腹', tooltip: {formatter: '{b}:&lt;br/&gt;55.0kg × 15&lt;br/&gt;55.0kg × 15&lt;br/&gt;55.0kg × 15&lt;br/&gt;total: {c}kg'}},].sort(function (a, b) {return a.value - b.value;}), roseType: 'radius', label: {color: 'rgba(255, 255, 255, 0.3)'}, labelLine: {lineStyle: {color: 'rgba(255, 255, 255, 0.3)'}, smooth: 0.2, length: 10, length2: 20}, itemStyle: {color: '#407D52', shadowBlur: 200, shadowColor: 'rgba(0, 0, 0, 0.5)'}, animationType: 'scale', animationEasing: 'elasticOut', animationDelay: function (idx) {return Math.random() * 200;}},</td>\n",
       "    </tr>\n",
       "    <tr>\n",
       "      <th id=\"T_825b1_level0_row4\" class=\"row_heading level0 row4\" >4</th>\n",
       "      <td id=\"T_825b1_row4_col0\" class=\"data row4 col0\" >2021/12/02</td>\n",
       "      <td id=\"T_825b1_row4_col1\" class=\"data row4 col1\" >{name: '详细信息', type: 'pie', radius: '20%', center: ['75%', '75%'], data: [{value: 4140.0, name: '杠铃颈后深蹲', tooltip: {formatter: '{b}:&lt;br/&gt;60.0kg × 12&lt;br/&gt;80.0kg × 10&lt;br/&gt;80.0kg × 10&lt;br/&gt;80.0kg × 8&lt;br/&gt;100.0kg × 3&lt;br/&gt;80.0kg × 6&lt;br/&gt;80.0kg × 5&lt;br/&gt;total: {c}kg'}},{value: 6240.0, name: '腿举', tooltip: {formatter: '{b}:&lt;br/&gt;120.0kg × 10&lt;br/&gt;140.0kg × 10&lt;br/&gt;140.0kg × 10&lt;br/&gt;160.0kg × 8&lt;br/&gt;160.0kg × 6&lt;br/&gt;total: {c}kg'}},{value: 1280.0, name: '哑铃健步走', tooltip: {formatter: '{b}:&lt;br/&gt;20.0kg × 16&lt;br/&gt;20.0kg × 16&lt;br/&gt;20.0kg × 16&lt;br/&gt;20.0kg × 16&lt;br/&gt;total: {c}kg'}},{value: 1632.0, name: '坐姿腿屈伸', tooltip: {formatter: '{b}:&lt;br/&gt;34.0kg × 12&lt;br/&gt;34.0kg × 12&lt;br/&gt;34.0kg × 12&lt;br/&gt;34.0kg × 12&lt;br/&gt;total: {c}kg'}},{value: 3168.0, name: '罗马挺', tooltip: {formatter: '{b}:&lt;br/&gt;66.0kg × 12&lt;br/&gt;66.0kg × 12&lt;br/&gt;66.0kg × 12&lt;br/&gt;66.0kg × 12&lt;br/&gt;total: {c}kg'}},].sort(function (a, b) {return a.value - b.value;}), roseType: 'radius', label: {color: 'rgba(255, 255, 255, 0.3)'}, labelLine: {lineStyle: {color: 'rgba(255, 255, 255, 0.3)'}, smooth: 0.2, length: 10, length2: 20}, itemStyle: {color: '#0095B6', shadowBlur: 200, shadowColor: 'rgba(0, 0, 0, 0.5)'}, animationType: 'scale', animationEasing: 'elasticOut', animationDelay: function (idx) {return Math.random() * 200;}},</td>\n",
       "    </tr>\n",
       "    <tr>\n",
       "      <th id=\"T_825b1_level0_row5\" class=\"row_heading level0 row5\" >5</th>\n",
       "      <td id=\"T_825b1_row5_col0\" class=\"data row5 col0\" >2021/12/06</td>\n",
       "      <td id=\"T_825b1_row5_col1\" class=\"data row5 col1\" >{name: '详细信息', type: 'pie', radius: '20%', center: ['25%', '30%'], data: [{value: 2175.0, name: '仰卧杠铃卧推', tooltip: {formatter: '{b}:&lt;br/&gt;55.0kg × 8&lt;br/&gt;55.0kg × 8&lt;br/&gt;55.0kg × 8&lt;br/&gt;55.0kg × 6&lt;br/&gt;55.0kg × 6&lt;br/&gt;65.0kg × 3&lt;br/&gt;total: {c}kg'}},{value: 2040.0, name: '上斜器械推举', tooltip: {formatter: '{b}:&lt;br/&gt;40.0kg × 10&lt;br/&gt;40.0kg × 10&lt;br/&gt;40.0kg × 10&lt;br/&gt;40.0kg × 10&lt;br/&gt;30.0kg × 8&lt;br/&gt;20.0kg × 10&lt;br/&gt;total: {c}kg'}},{value: 1440.0, name: '窄距哑铃推举', tooltip: {formatter: '{b}:&lt;br/&gt;30.0kg × 12&lt;br/&gt;30.0kg × 12&lt;br/&gt;30.0kg × 12&lt;br/&gt;30.0kg × 12&lt;br/&gt;total: {c}kg'}},{value: 2640.0, name: '双杠臂屈伸', tooltip: {formatter: '{b}:&lt;br/&gt;66.0kg × 10&lt;br/&gt;66.0kg × 10&lt;br/&gt;66.0kg × 10&lt;br/&gt;66.0kg × 10&lt;br/&gt;total: {c}kg'}},{value: 650.0, name: '坐姿器械夹胸', tooltip: {formatter: '{b}:&lt;br/&gt;20.0kg × 10&lt;br/&gt;15.0kg × 10&lt;br/&gt;15.0kg × 10&lt;br/&gt;15.0kg × 10&lt;br/&gt;total: {c}kg'}},{value: 2970.0, name: '悬垂卷腹', tooltip: {formatter: '{b}:&lt;br/&gt;66.0kg × 15&lt;br/&gt;66.0kg × 15&lt;br/&gt;66.0kg × 15&lt;br/&gt;total: {c}kg'}},{value: 825.0, name: '跪姿拉索卷腹', tooltip: {formatter: '{b}:&lt;br/&gt;55.0kg × 15&lt;br/&gt;total: {c}kg'}},].sort(function (a, b) {return a.value - b.value;}), roseType: 'radius', label: {color: 'rgba(255, 255, 255, 0.3)'}, labelLine: {lineStyle: {color: 'rgba(255, 255, 255, 0.3)'}, smooth: 0.2, length: 10, length2: 20}, itemStyle: {color: '#800020', shadowBlur: 200, shadowColor: 'rgba(0, 0, 0, 0.5)'}, animationType: 'scale', animationEasing: 'elasticOut', animationDelay: function (idx) {return Math.random() * 200;}},</td>\n",
       "    </tr>\n",
       "    <tr>\n",
       "      <th id=\"T_825b1_level0_row6\" class=\"row_heading level0 row6\" >6</th>\n",
       "      <td id=\"T_825b1_row6_col0\" class=\"data row6 col0\" >2021/12/07</td>\n",
       "      <td id=\"T_825b1_row6_col1\" class=\"data row6 col1\" >{name: '详细信息', type: 'pie', radius: '20%', center: ['75%', '30%'], data: [{value: 2928.0, name: '宽握引体向上', tooltip: {formatter: '{b}:&lt;br/&gt;66.0kg × 10&lt;br/&gt;66.0kg × 8&lt;br/&gt;66.0kg × 8&lt;br/&gt;66.0kg × 8&lt;br/&gt;76.0kg × 4&lt;br/&gt;76.0kg × 5&lt;br/&gt;total: {c}kg'}},{value: 2400.0, name: '俯身杠铃划船', tooltip: {formatter: '{b}:&lt;br/&gt;50.0kg × 12&lt;br/&gt;50.0kg × 12&lt;br/&gt;60.0kg × 10&lt;br/&gt;60.0kg × 10&lt;br/&gt;total: {c}kg'}},{value: 4440.0, name: '坐姿拉索划船', tooltip: {formatter: '{b}:&lt;br/&gt;65.0kg × 12&lt;br/&gt;70.0kg × 12&lt;br/&gt;75.0kg × 12&lt;br/&gt;80.0kg × 12&lt;br/&gt;80.0kg × 12&lt;br/&gt;total: {c}kg'}},{value: 2800.0, name: '高位宽握下拉', tooltip: {formatter: '{b}:&lt;br/&gt;70.0kg × 10&lt;br/&gt;70.0kg × 10&lt;br/&gt;70.0kg × 10&lt;br/&gt;70.0kg × 10&lt;br/&gt;total: {c}kg'}},{value: 2000.0, name: '器械坐姿划船', tooltip: {formatter: '{b}:&lt;br/&gt;40.0kg × 10&lt;br/&gt;40.0kg × 10&lt;br/&gt;40.0kg × 10&lt;br/&gt;40.0kg × 10&lt;br/&gt;20.0kg × 20&lt;br/&gt;total: {c}kg'}},{value: 1200.0, name: '直臂下压', tooltip: {formatter: '{b}:&lt;br/&gt;30.0kg × 10&lt;br/&gt;30.0kg × 10&lt;br/&gt;30.0kg × 10&lt;br/&gt;30.0kg × 10&lt;br/&gt;total: {c}kg'}},{value: 2640.0, name: '跪姿拉索卷腹', tooltip: {formatter: '{b}:&lt;br/&gt;55.0kg × 16&lt;br/&gt;55.0kg × 16&lt;br/&gt;55.0kg × 16&lt;br/&gt;total: {c}kg'}},].sort(function (a, b) {return a.value - b.value;}), roseType: 'radius', label: {color: 'rgba(255, 255, 255, 0.3)'}, labelLine: {lineStyle: {color: 'rgba(255, 255, 255, 0.3)'}, smooth: 0.2, length: 10, length2: 20}, itemStyle: {color: '#CFB64A', shadowBlur: 200, shadowColor: 'rgba(0, 0, 0, 0.5)'}, animationType: 'scale', animationEasing: 'elasticOut', animationDelay: function (idx) {return Math.random() * 200;}},</td>\n",
       "    </tr>\n",
       "    <tr>\n",
       "      <th id=\"T_825b1_level0_row7\" class=\"row_heading level0 row7\" >7</th>\n",
       "      <td id=\"T_825b1_row7_col0\" class=\"data row7 col0\" >2021/12/08</td>\n",
       "      <td id=\"T_825b1_row7_col1\" class=\"data row7 col1\" >{name: '详细信息', type: 'pie', radius: '20%', center: ['25%', '75%'], data: [{value: 1010.0, name: '站姿杠铃弯举', tooltip: {formatter: '{b}:&lt;br/&gt;25.0kg × 10&lt;br/&gt;25.0kg × 8&lt;br/&gt;25.0kg × 8&lt;br/&gt;20.0kg × 10&lt;br/&gt;20.0kg × 8&lt;br/&gt;total: {c}kg'}},{value: 1520.0, name: '绳索三头下拉', tooltip: {formatter: '{b}:&lt;br/&gt;30.0kg × 10&lt;br/&gt;30.0kg × 10&lt;br/&gt;30.0kg × 8&lt;br/&gt;25.0kg × 10&lt;br/&gt;25.0kg × 8&lt;br/&gt;20.0kg × 4&lt;br/&gt;15.0kg × 10&lt;br/&gt;total: {c}kg'}},{value: 1200.0, name: '站姿拉索弯举', tooltip: {formatter: '{b}:&lt;br/&gt;30.0kg × 10&lt;br/&gt;30.0kg × 10&lt;br/&gt;30.0kg × 10&lt;br/&gt;30.0kg × 10&lt;br/&gt;total: {c}kg'}},{value: 1560.0, name: '坐姿哑铃推举', tooltip: {formatter: '{b}:&lt;br/&gt;30.0kg × 12&lt;br/&gt;30.0kg × 12&lt;br/&gt;30.0kg × 10&lt;br/&gt;30.0kg × 10&lt;br/&gt;30.0kg × 8&lt;br/&gt;total: {c}kg'}},{value: 1030.0, name: '站姿哑铃侧平举', tooltip: {formatter: '{b}:&lt;br/&gt;20.0kg × 10&lt;br/&gt;10.0kg × 10&lt;br/&gt;6.0kg × 10&lt;br/&gt;20.0kg × 10&lt;br/&gt;10.0kg × 10&lt;br/&gt;6.0kg × 10&lt;br/&gt;15.0kg × 10&lt;br/&gt;10.0kg × 10&lt;br/&gt;6.0kg × 10&lt;br/&gt;total: {c}kg'}},{value: 400.0, name: '站姿俯身哑铃飞鸟', tooltip: {formatter: '{b}:&lt;br/&gt;10.0kg × 10&lt;br/&gt;10.0kg × 10&lt;br/&gt;10.0kg × 10&lt;br/&gt;10.0kg × 10&lt;br/&gt;total: {c}kg'}},{value: 2970.0, name: '悬垂卷腹', tooltip: {formatter: '{b}:&lt;br/&gt;66.0kg × 15&lt;br/&gt;66.0kg × 15&lt;br/&gt;66.0kg × 15&lt;br/&gt;total: {c}kg'}},].sort(function (a, b) {return a.value - b.value;}), roseType: 'radius', label: {color: 'rgba(255, 255, 255, 0.3)'}, labelLine: {lineStyle: {color: 'rgba(255, 255, 255, 0.3)'}, smooth: 0.2, length: 10, length2: 20}, itemStyle: {color: '#407D52', shadowBlur: 200, shadowColor: 'rgba(0, 0, 0, 0.5)'}, animationType: 'scale', animationEasing: 'elasticOut', animationDelay: function (idx) {return Math.random() * 200;}},</td>\n",
       "    </tr>\n",
       "    <tr>\n",
       "      <th id=\"T_825b1_level0_row8\" class=\"row_heading level0 row8\" >8</th>\n",
       "      <td id=\"T_825b1_row8_col0\" class=\"data row8 col0\" >2021/12/09</td>\n",
       "      <td id=\"T_825b1_row8_col1\" class=\"data row8 col1\" >{name: '详细信息', type: 'pie', radius: '20%', center: ['75%', '75%'], data: [{value: 3780.0, name: '直腿硬拉', tooltip: {formatter: '{b}:&lt;br/&gt;60.0kg × 8&lt;br/&gt;60.0kg × 8&lt;br/&gt;80.0kg × 6&lt;br/&gt;80.0kg × 6&lt;br/&gt;80.0kg × 6&lt;br/&gt;100.0kg × 3&lt;br/&gt;100.0kg × 3&lt;br/&gt;80.0kg × 6&lt;br/&gt;60.0kg × 5&lt;br/&gt;total: {c}kg'}},{value: 960.0, name: '杠铃颈后深蹲', tooltip: {formatter: '{b}:&lt;br/&gt;60.0kg × 8&lt;br/&gt;60.0kg × 8&lt;br/&gt;total: {c}kg'}},{value: 10240.0, name: '腿举', tooltip: {formatter: '{b}:&lt;br/&gt;120.0kg × 15&lt;br/&gt;140.0kg × 12&lt;br/&gt;140.0kg × 12&lt;br/&gt;140.0kg × 12&lt;br/&gt;160.0kg × 10&lt;br/&gt;180.0kg × 10&lt;br/&gt;total: {c}kg'}},{value: 1632.0, name: '坐姿腿屈伸', tooltip: {formatter: '{b}:&lt;br/&gt;34.0kg × 12&lt;br/&gt;34.0kg × 12&lt;br/&gt;34.0kg × 12&lt;br/&gt;34.0kg × 12&lt;br/&gt;total: {c}kg'}},{value: 2970.0, name: '悬垂卷腹', tooltip: {formatter: '{b}:&lt;br/&gt;66.0kg × 15&lt;br/&gt;66.0kg × 15&lt;br/&gt;66.0kg × 15&lt;br/&gt;total: {c}kg'}},].sort(function (a, b) {return a.value - b.value;}), roseType: 'radius', label: {color: 'rgba(255, 255, 255, 0.3)'}, labelLine: {lineStyle: {color: 'rgba(255, 255, 255, 0.3)'}, smooth: 0.2, length: 10, length2: 20}, itemStyle: {color: '#0095B6', shadowBlur: 200, shadowColor: 'rgba(0, 0, 0, 0.5)'}, animationType: 'scale', animationEasing: 'elasticOut', animationDelay: function (idx) {return Math.random() * 200;}},</td>\n",
       "    </tr>\n",
       "    <tr>\n",
       "      <th id=\"T_825b1_level0_row9\" class=\"row_heading level0 row9\" >9</th>\n",
       "      <td id=\"T_825b1_row9_col0\" class=\"data row9 col0\" >2021/12/13</td>\n",
       "      <td id=\"T_825b1_row9_col1\" class=\"data row9 col1\" >{name: '详细信息', type: 'pie', radius: '20%', center: ['25%', '30%'], data: [{value: 2260.0, name: '仰卧杠铃卧推', tooltip: {formatter: '{b}:&lt;br/&gt;50.0kg × 8&lt;br/&gt;55.0kg × 8&lt;br/&gt;55.0kg × 8&lt;br/&gt;55.0kg × 8&lt;br/&gt;60.0kg × 5&lt;br/&gt;60.0kg × 4&lt;br/&gt;total: {c}kg'}},{value: 2000.0, name: '上斜器械推举', tooltip: {formatter: '{b}:&lt;br/&gt;45.0kg × 10&lt;br/&gt;45.0kg × 8&lt;br/&gt;45.0kg × 8&lt;br/&gt;40.0kg × 9&lt;br/&gt;40.0kg × 8&lt;br/&gt;30.0kg × 5&lt;br/&gt;total: {c}kg'}},{value: 1385.0, name: '窄距哑铃推举', tooltip: {formatter: '{b}:&lt;br/&gt;30.0kg × 12&lt;br/&gt;35.0kg × 9&lt;br/&gt;35.0kg × 10&lt;br/&gt;30.0kg × 12&lt;br/&gt;total: {c}kg'}},{value: 2640.0, name: '双杠臂屈伸', tooltip: {formatter: '{b}:&lt;br/&gt;66.0kg × 10&lt;br/&gt;66.0kg × 10&lt;br/&gt;66.0kg × 10&lt;br/&gt;66.0kg × 10&lt;br/&gt;total: {c}kg'}},{value: 1200.0, name: '站姿高位拉锁夹胸', tooltip: {formatter: '{b}:&lt;br/&gt;30.0kg × 10&lt;br/&gt;30.0kg × 10&lt;br/&gt;30.0kg × 10&lt;br/&gt;30.0kg × 10&lt;br/&gt;total: {c}kg'}},{value: 3300.0, name: '悬垂卷腹', tooltip: {formatter: '{b}:&lt;br/&gt;66.0kg × 15&lt;br/&gt;66.0kg × 15&lt;br/&gt;66.0kg × 20&lt;br/&gt;total: {c}kg'}},{value: 2640.0, name: '跪姿拉索卷腹', tooltip: {formatter: '{b}:&lt;br/&gt;55.0kg × 16&lt;br/&gt;55.0kg × 16&lt;br/&gt;55.0kg × 16&lt;br/&gt;total: {c}kg'}},].sort(function (a, b) {return a.value - b.value;}), roseType: 'radius', label: {color: 'rgba(255, 255, 255, 0.3)'}, labelLine: {lineStyle: {color: 'rgba(255, 255, 255, 0.3)'}, smooth: 0.2, length: 10, length2: 20}, itemStyle: {color: '#800020', shadowBlur: 200, shadowColor: 'rgba(0, 0, 0, 0.5)'}, animationType: 'scale', animationEasing: 'elasticOut', animationDelay: function (idx) {return Math.random() * 200;}},</td>\n",
       "    </tr>\n",
       "    <tr>\n",
       "      <th id=\"T_825b1_level0_row10\" class=\"row_heading level0 row10\" >10</th>\n",
       "      <td id=\"T_825b1_row10_col0\" class=\"data row10 col0\" >2021/12/14</td>\n",
       "      <td id=\"T_825b1_row10_col1\" class=\"data row10 col1\" >{name: '详细信息', type: 'pie', radius: '20%', center: ['75%', '30%'], data: [{value: 3410.0, name: '宽握引体向上', tooltip: {formatter: '{b}:&lt;br/&gt;66.0kg × 10&lt;br/&gt;66.0kg × 8&lt;br/&gt;66.0kg × 8&lt;br/&gt;66.0kg × 8&lt;br/&gt;76.0kg × 6&lt;br/&gt;66.0kg × 5&lt;br/&gt;76.0kg × 5&lt;br/&gt;total: {c}kg'}},{value: 2400.0, name: '俯身杠铃划船', tooltip: {formatter: '{b}:&lt;br/&gt;60.0kg × 10&lt;br/&gt;60.0kg × 10&lt;br/&gt;60.0kg × 10&lt;br/&gt;60.0kg × 10&lt;br/&gt;total: {c}kg'}},{value: 4120.0, name: '坐姿拉索划船', tooltip: {formatter: '{b}:&lt;br/&gt;65.0kg × 12&lt;br/&gt;70.0kg × 12&lt;br/&gt;75.0kg × 12&lt;br/&gt;80.0kg × 10&lt;br/&gt;80.0kg × 10&lt;br/&gt;total: {c}kg'}},{value: 2610.0, name: '高位宽握下拉', tooltip: {formatter: '{b}:&lt;br/&gt;65.0kg × 10&lt;br/&gt;70.0kg × 10&lt;br/&gt;70.0kg × 8&lt;br/&gt;70.0kg × 10&lt;br/&gt;total: {c}kg'}},{value: 2000.0, name: '器械坐姿划船', tooltip: {formatter: '{b}:&lt;br/&gt;40.0kg × 10&lt;br/&gt;40.0kg × 10&lt;br/&gt;40.0kg × 10&lt;br/&gt;40.0kg × 10&lt;br/&gt;20.0kg × 20&lt;br/&gt;total: {c}kg'}},{value: 1200.0, name: '直臂下压', tooltip: {formatter: '{b}:&lt;br/&gt;30.0kg × 10&lt;br/&gt;30.0kg × 10&lt;br/&gt;30.0kg × 10&lt;br/&gt;30.0kg × 10&lt;br/&gt;total: {c}kg'}},{value: 2640.0, name: '跪姿拉索卷腹', tooltip: {formatter: '{b}:&lt;br/&gt;55.0kg × 16&lt;br/&gt;55.0kg × 16&lt;br/&gt;55.0kg × 16&lt;br/&gt;total: {c}kg'}},{value: 1452.0, name: '悬垂卷腹', tooltip: {formatter: '{b}:&lt;br/&gt;66.0kg × 12&lt;br/&gt;66.0kg × 10&lt;br/&gt;total: {c}kg'}},].sort(function (a, b) {return a.value - b.value;}), roseType: 'radius', label: {color: 'rgba(255, 255, 255, 0.3)'}, labelLine: {lineStyle: {color: 'rgba(255, 255, 255, 0.3)'}, smooth: 0.2, length: 10, length2: 20}, itemStyle: {color: '#CFB64A', shadowBlur: 200, shadowColor: 'rgba(0, 0, 0, 0.5)'}, animationType: 'scale', animationEasing: 'elasticOut', animationDelay: function (idx) {return Math.random() * 200;}},</td>\n",
       "    </tr>\n",
       "    <tr>\n",
       "      <th id=\"T_825b1_level0_row11\" class=\"row_heading level0 row11\" >11</th>\n",
       "      <td id=\"T_825b1_row11_col0\" class=\"data row11 col0\" >2021/12/15</td>\n",
       "      <td id=\"T_825b1_row11_col1\" class=\"data row11 col1\" >{name: '详细信息', type: 'pie', radius: '20%', center: ['25%', '75%'], data: [{value: 1000.0, name: '站姿杠铃弯举', tooltip: {formatter: '{b}:&lt;br/&gt;20.0kg × 10&lt;br/&gt;20.0kg × 10&lt;br/&gt;20.0kg × 10&lt;br/&gt;20.0kg × 10&lt;br/&gt;20.0kg × 10&lt;br/&gt;total: {c}kg'}},{value: 1535.0, name: '固定杠臂屈伸', tooltip: {formatter: '{b}:&lt;br/&gt;25.0kg × 15&lt;br/&gt;40.0kg × 8&lt;br/&gt;30.0kg × 10&lt;br/&gt;30.0kg × 10&lt;br/&gt;30.0kg × 8&lt;br/&gt;total: {c}kg'}},{value: 800.0, name: '交替哑铃弯举', tooltip: {formatter: '{b}:&lt;br/&gt;12.5kg × 16&lt;br/&gt;12.5kg × 16&lt;br/&gt;12.5kg × 16&lt;br/&gt;12.5kg × 16&lt;br/&gt;total: {c}kg'}},{value: 1620.0, name: '坐姿哑铃推举', tooltip: {formatter: '{b}:&lt;br/&gt;30.0kg × 12&lt;br/&gt;30.0kg × 12&lt;br/&gt;30.0kg × 10&lt;br/&gt;30.0kg × 10&lt;br/&gt;30.0kg × 10&lt;br/&gt;total: {c}kg'}},{value: 1030.0, name: '站姿哑铃侧平举', tooltip: {formatter: '{b}:&lt;br/&gt;20.0kg × 10&lt;br/&gt;10.0kg × 10&lt;br/&gt;6.0kg × 10&lt;br/&gt;20.0kg × 10&lt;br/&gt;10.0kg × 10&lt;br/&gt;6.0kg × 10&lt;br/&gt;15.0kg × 10&lt;br/&gt;10.0kg × 10&lt;br/&gt;6.0kg × 10&lt;br/&gt;total: {c}kg'}},{value: 500.0, name: '站姿俯身哑铃飞鸟', tooltip: {formatter: '{b}:&lt;br/&gt;10.0kg × 10&lt;br/&gt;10.0kg × 10&lt;br/&gt;15.0kg × 10&lt;br/&gt;15.0kg × 10&lt;br/&gt;total: {c}kg'}},{value: 2970.0, name: '悬垂卷腹', tooltip: {formatter: '{b}:&lt;br/&gt;66.0kg × 15&lt;br/&gt;66.0kg × 15&lt;br/&gt;66.0kg × 15&lt;br/&gt;total: {c}kg'}},].sort(function (a, b) {return a.value - b.value;}), roseType: 'radius', label: {color: 'rgba(255, 255, 255, 0.3)'}, labelLine: {lineStyle: {color: 'rgba(255, 255, 255, 0.3)'}, smooth: 0.2, length: 10, length2: 20}, itemStyle: {color: '#407D52', shadowBlur: 200, shadowColor: 'rgba(0, 0, 0, 0.5)'}, animationType: 'scale', animationEasing: 'elasticOut', animationDelay: function (idx) {return Math.random() * 200;}},</td>\n",
       "    </tr>\n",
       "    <tr>\n",
       "      <th id=\"T_825b1_level0_row12\" class=\"row_heading level0 row12\" >12</th>\n",
       "      <td id=\"T_825b1_row12_col0\" class=\"data row12 col0\" >2021/12/16</td>\n",
       "      <td id=\"T_825b1_row12_col1\" class=\"data row12 col1\" >{name: '详细信息', type: 'pie', radius: '20%', center: ['75%', '75%'], data: [{value: 3750.0, name: '杠铃颈后深蹲', tooltip: {formatter: '{b}:&lt;br/&gt;60.0kg × 10&lt;br/&gt;80.0kg × 8&lt;br/&gt;80.0kg × 8&lt;br/&gt;80.0kg × 8&lt;br/&gt;90.0kg × 5&lt;br/&gt;100.0kg × 3&lt;br/&gt;60.0kg × 8&lt;br/&gt;total: {c}kg'}},{value: 10560.0, name: '腿举', tooltip: {formatter: '{b}:&lt;br/&gt;120.0kg × 15&lt;br/&gt;140.0kg × 12&lt;br/&gt;140.0kg × 12&lt;br/&gt;140.0kg × 12&lt;br/&gt;160.0kg × 12&lt;br/&gt;180.0kg × 10&lt;br/&gt;total: {c}kg'}},{value: 1560.0, name: '杠铃健步走', tooltip: {formatter: '{b}:&lt;br/&gt;20.0kg × 12&lt;br/&gt;25.0kg × 12&lt;br/&gt;30.0kg × 12&lt;br/&gt;30.0kg × 10&lt;br/&gt;30.0kg × 12&lt;br/&gt;total: {c}kg'}},{value: 1632.0, name: '坐姿腿屈伸', tooltip: {formatter: '{b}:&lt;br/&gt;34.0kg × 12&lt;br/&gt;34.0kg × 12&lt;br/&gt;34.0kg × 12&lt;br/&gt;34.0kg × 12&lt;br/&gt;total: {c}kg'}},{value: 3168.0, name: '罗马挺', tooltip: {formatter: '{b}:&lt;br/&gt;66.0kg × 12&lt;br/&gt;66.0kg × 12&lt;br/&gt;66.0kg × 12&lt;br/&gt;66.0kg × 12&lt;br/&gt;total: {c}kg'}},].sort(function (a, b) {return a.value - b.value;}), roseType: 'radius', label: {color: 'rgba(255, 255, 255, 0.3)'}, labelLine: {lineStyle: {color: 'rgba(255, 255, 255, 0.3)'}, smooth: 0.2, length: 10, length2: 20}, itemStyle: {color: '#0095B6', shadowBlur: 200, shadowColor: 'rgba(0, 0, 0, 0.5)'}, animationType: 'scale', animationEasing: 'elasticOut', animationDelay: function (idx) {return Math.random() * 200;}},</td>\n",
       "    </tr>\n",
       "    <tr>\n",
       "      <th id=\"T_825b1_level0_row13\" class=\"row_heading level0 row13\" >13</th>\n",
       "      <td id=\"T_825b1_row13_col0\" class=\"data row13 col0\" >2021/12/20</td>\n",
       "      <td id=\"T_825b1_row13_col1\" class=\"data row13 col1\" >{name: '详细信息', type: 'pie', radius: '20%', center: ['25%', '30%'], data: [{value: 2800.0, name: '仰卧杠铃卧推', tooltip: {formatter: '{b}:&lt;br/&gt;50.0kg × 8&lt;br/&gt;60.0kg × 8&lt;br/&gt;60.0kg × 8&lt;br/&gt;60.0kg × 6&lt;br/&gt;60.0kg × 6&lt;br/&gt;50.0kg × 8&lt;br/&gt;40.0kg × 8&lt;br/&gt;total: {c}kg'}},{value: 2320.0, name: '上斜器械推举', tooltip: {formatter: '{b}:&lt;br/&gt;40.0kg × 10&lt;br/&gt;40.0kg × 10&lt;br/&gt;40.0kg × 10&lt;br/&gt;40.0kg × 10&lt;br/&gt;40.0kg × 10&lt;br/&gt;40.0kg × 8&lt;br/&gt;total: {c}kg'}},{value: 1200.0, name: '窄距哑铃推举', tooltip: {formatter: '{b}:&lt;br/&gt;30.0kg × 10&lt;br/&gt;30.0kg × 10&lt;br/&gt;30.0kg × 10&lt;br/&gt;30.0kg × 10&lt;br/&gt;total: {c}kg'}},{value: 2640.0, name: '双杠臂屈伸', tooltip: {formatter: '{b}:&lt;br/&gt;66.0kg × 10&lt;br/&gt;66.0kg × 10&lt;br/&gt;66.0kg × 10&lt;br/&gt;66.0kg × 10&lt;br/&gt;total: {c}kg'}},{value: 1200.0, name: '站姿高位拉锁夹胸', tooltip: {formatter: '{b}:&lt;br/&gt;30.0kg × 10&lt;br/&gt;30.0kg × 10&lt;br/&gt;30.0kg × 10&lt;br/&gt;30.0kg × 10&lt;br/&gt;total: {c}kg'}},{value: 3630.0, name: '悬垂卷腹', tooltip: {formatter: '{b}:&lt;br/&gt;66.0kg × 15&lt;br/&gt;66.0kg × 15&lt;br/&gt;66.0kg × 15&lt;br/&gt;66.0kg × 10&lt;br/&gt;total: {c}kg'}},{value: 3520.0, name: '跪姿拉索卷腹', tooltip: {formatter: '{b}:&lt;br/&gt;55.0kg × 16&lt;br/&gt;55.0kg × 16&lt;br/&gt;55.0kg × 16&lt;br/&gt;55.0kg × 16&lt;br/&gt;total: {c}kg'}},].sort(function (a, b) {return a.value - b.value;}), roseType: 'radius', label: {color: 'rgba(255, 255, 255, 0.3)'}, labelLine: {lineStyle: {color: 'rgba(255, 255, 255, 0.3)'}, smooth: 0.2, length: 10, length2: 20}, itemStyle: {color: '#800020', shadowBlur: 200, shadowColor: 'rgba(0, 0, 0, 0.5)'}, animationType: 'scale', animationEasing: 'elasticOut', animationDelay: function (idx) {return Math.random() * 200;}},</td>\n",
       "    </tr>\n",
       "    <tr>\n",
       "      <th id=\"T_825b1_level0_row14\" class=\"row_heading level0 row14\" >14</th>\n",
       "      <td id=\"T_825b1_row14_col0\" class=\"data row14 col0\" >2021/12/21</td>\n",
       "      <td id=\"T_825b1_row14_col1\" class=\"data row14 col1\" >{name: '详细信息', type: 'pie', radius: '20%', center: ['75%', '30%'], data: [{value: 3076.0, name: '宽握引体向上', tooltip: {formatter: '{b}:&lt;br/&gt;66.0kg × 10&lt;br/&gt;66.0kg × 8&lt;br/&gt;66.0kg × 8&lt;br/&gt;66.0kg × 8&lt;br/&gt;66.0kg × 8&lt;br/&gt;76.0kg × 4&lt;br/&gt;total: {c}kg'}},{value: 2400.0, name: '俯身杠铃划船', tooltip: {formatter: '{b}:&lt;br/&gt;60.0kg × 10&lt;br/&gt;60.0kg × 10&lt;br/&gt;60.0kg × 10&lt;br/&gt;60.0kg × 10&lt;br/&gt;total: {c}kg'}},{value: 3150.0, name: '坐姿拉索划船', tooltip: {formatter: '{b}:&lt;br/&gt;75.0kg × 10&lt;br/&gt;75.0kg × 10&lt;br/&gt;75.0kg × 10&lt;br/&gt;75.0kg × 12&lt;br/&gt;total: {c}kg'}},{value: 3360.0, name: '高位宽握下拉', tooltip: {formatter: '{b}:&lt;br/&gt;70.0kg × 12&lt;br/&gt;70.0kg × 12&lt;br/&gt;70.0kg × 12&lt;br/&gt;70.0kg × 12&lt;br/&gt;total: {c}kg'}},{value: 2400.0, name: '器械坐姿划船', tooltip: {formatter: '{b}:&lt;br/&gt;40.0kg × 10&lt;br/&gt;50.0kg × 10&lt;br/&gt;50.0kg × 10&lt;br/&gt;50.0kg × 10&lt;br/&gt;25.0kg × 20&lt;br/&gt;total: {c}kg'}},{value: 1200.0, name: '直臂下压', tooltip: {formatter: '{b}:&lt;br/&gt;30.0kg × 10&lt;br/&gt;30.0kg × 10&lt;br/&gt;30.0kg × 10&lt;br/&gt;30.0kg × 10&lt;br/&gt;total: {c}kg'}},{value: 2442.0, name: '悬垂卷腹', tooltip: {formatter: '{b}:&lt;br/&gt;66.0kg × 15&lt;br/&gt;66.0kg × 10&lt;br/&gt;66.0kg × 12&lt;br/&gt;total: {c}kg'}},].sort(function (a, b) {return a.value - b.value;}), roseType: 'radius', label: {color: 'rgba(255, 255, 255, 0.3)'}, labelLine: {lineStyle: {color: 'rgba(255, 255, 255, 0.3)'}, smooth: 0.2, length: 10, length2: 20}, itemStyle: {color: '#CFB64A', shadowBlur: 200, shadowColor: 'rgba(0, 0, 0, 0.5)'}, animationType: 'scale', animationEasing: 'elasticOut', animationDelay: function (idx) {return Math.random() * 200;}},</td>\n",
       "    </tr>\n",
       "  </tbody>\n",
       "</table>\n"
      ],
      "text/plain": [
       "<pandas.io.formats.style.Styler at 0x1cfc7451e80>"
      ]
     },
     "execution_count": 4,
     "metadata": {},
     "output_type": "execute_result"
    }
   ],
   "source": [
    "data = pd.read_csv('../datas/trains.csv')\n",
    "data = data.dropna(axis=0, how='any')  \n",
    "def generate_head(date_str):\n",
    "    part1 = template_sub_text.format(define_parts[defien_part_type[0]]['part'], define_parts[defien_part_type[0]]['left'], define_parts[defien_part_type[0]]['top'])\n",
    "    part2 = template_sub_text.format(define_parts[defien_part_type[1]]['part'], define_parts[defien_part_type[1]]['left'], define_parts[defien_part_type[1]]['top'])\n",
    "    part3 = template_sub_text.format(define_parts[defien_part_type[2]]['part'], define_parts[defien_part_type[2]]['left'], define_parts[defien_part_type[2]]['top'])\n",
    "    part4 = template_sub_text.format(define_parts[defien_part_type[3]]['part'], define_parts[defien_part_type[3]]['left'], define_parts[defien_part_type[3]]['top'])\n",
    "    head = template_head.format(date_str, part1, part2, part3, part4)\n",
    "    return head\n",
    "\n",
    "def left_align(df: DataFrame):\n",
    "    left_aligned_df = df.style.set_properties(**{'text-align': 'left'})\n",
    "    left_aligned_df = left_aligned_df.set_table_styles(\n",
    "        [dict(selector='th', props=[('text-align', 'center')])]\n",
    "    )\n",
    "    return left_aligned_df\n",
    "\n",
    "\n",
    "data_by_date = filter_pd_data('DATE', data)\n",
    "\n",
    "data_formatter = {}\n",
    "for key, value in data_by_date.items():\n",
    "    data_set_str = ''\n",
    "    center = ''\n",
    "    color = ''\n",
    "    df = pd.DataFrame(value)\n",
    "    data_by_name = filter_pd_data('NAME', df)\n",
    "    for name, row in data_by_name.items():\n",
    "        total = 0\n",
    "        item_str = ''\n",
    "        for item in row:\n",
    "            weight = item['WEIGHT']\n",
    "            times = item['TIMES']\n",
    "            center = define_parts[item['PART']]['center']\n",
    "            color = define_parts[item['PART']]['color']\n",
    "            total += weight * times\n",
    "            item_str += template_item.format(weight, int(times))\n",
    "        data_set_str += template_data.format(total, name, item_str)\n",
    "    data_formatter[key] = template_series.format(center, template_data_set.format(data_set_str), color)\n",
    "    \n",
    "formatter_data = pd.DataFrame(data_formatter.items(), columns=['Date', 'Formatter'])\n",
    "# formatter_data.style.set_properties(**{'text-align': 'left'}).set_table_styles([dict(selector='th', props=[('text-align', 'left')])])\n",
    "left_align(formatter_data)\n",
    "# display(HTML(formatter_data.to_html(index=False, justify='left')))\n",
    "# formatter_data.to_html()"
   ]
  },
  {
   "cell_type": "markdown",
   "id": "951fe23d",
   "metadata": {},
   "source": [
    "### Generate Head"
   ]
  },
  {
   "cell_type": "code",
   "execution_count": 6,
   "id": "a6024071",
   "metadata": {
    "scrolled": false
   },
   "outputs": [
    {
     "name": "stdout",
     "output_type": "stream",
     "text": [
      "{% echarts 600 '85%' %}\n",
      "option = {\n",
      "    backgroundColor: '#2c343c', title: [{text: '2021/12/13 - 2021/12/16', left: 'center', top: 20, textStyle: {color: '#ccc'}}, {subtext: '胸', left: '25%', top: '45%', textAlign: 'center', fontSize: 20, textStyle: {color: '#ccc'}}, {subtext: '背', left: '75%', top: '45%', textAlign: 'center', fontSize: 20, textStyle: {color: '#ccc'}}, {subtext: '手臂', left: '25%', top: '90%', textAlign: 'center', fontSize: 20, textStyle: {color: '#ccc'}}, {subtext: '腿', left: '75%', top: '90%', textAlign: 'center', fontSize: 20, textStyle: {color: '#ccc'}}], tooltip: {trigger: 'item'}, visualMap: {show: false, min: 1000, max: 5000, inRange: {colorLightness: [0.8, 0.2]}},\n",
      "    series: [\n",
      "\n",
      "    ]\n",
      "};\n",
      "{% endecharts %}\n"
     ]
    }
   ],
   "source": [
    "print(generate_head('2021/12/20 - 2021/12/23'))"
   ]
  },
  {
   "cell_type": "markdown",
   "id": "77077941",
   "metadata": {},
   "source": [
    "### Generate Data by Date"
   ]
  },
  {
   "cell_type": "code",
   "execution_count": 31,
   "id": "84681cfd",
   "metadata": {
    "scrolled": false
   },
   "outputs": [
    {
     "data": {
      "text/plain": [
       "5    {name: '详细信息', type: 'pie', radius: '20%', center: ['25%', '30%'], data: [{value: 2175.0, name: '仰卧杠铃卧推', tooltip: {formatter: '{b}:&lt;br/&gt;55.0kg × 8&lt;br/&gt;55.0kg × 8&lt;br/&gt;55.0kg × 8&lt;br/&gt;55.0kg × 6&lt;br/&gt;55.0kg × 6&lt;br/&gt;65.0kg × 3&lt;br/&gt;total: {c}kg'}},{value: 2040.0, name: '上斜器械推举', tooltip: {formatter: '{b}:&lt;br/&gt;40.0kg × 10&lt;br/&gt;40.0kg × 10&lt;br/&gt;40.0kg × 10&lt;br/&gt;40.0kg × 10&lt;br/&gt;30.0kg × 8&lt;br/&gt;20.0kg × 10&lt;br/&gt;total: {c}kg'}},{value: 1440.0, name: '窄距哑铃推举', tooltip: {formatter: '{b}:&lt;br/&gt;30.0kg × 12&lt;br/&gt;30.0kg × 12&lt;br/&gt;30.0kg × 12&lt;br/&gt;30.0kg × 12&lt;br/&gt;total: {c}kg'}},{value: 2640.0, name: '双杠臂屈伸', tooltip: {formatter: '{b}:&lt;br/&gt;66.0kg × 10&lt;br/&gt;66.0kg × 10&lt;br/&gt;66.0kg × 10&lt;br/&gt;66.0kg × 10&lt;br/&gt;total: {c}kg'}},{value: 650.0, name: '坐姿器械夹胸', tooltip: {formatter: '{b}:&lt;br/&gt;20.0kg × 10&lt;br/&gt;15.0kg × 10&lt;br/&gt;15.0kg × 10&lt;br/&gt;15.0kg × 10&lt;br/&gt;total: {c}kg'}},{value: 2970.0, name: '悬垂卷腹', tooltip: {formatter: '{b}:&lt;br/&gt;66.0kg × 15&lt;br/&gt;66.0kg × 15&lt;br/&gt;66.0kg × 15&lt;br/&gt;total: {c}kg'}},{value: 825.0, name: '跪姿拉索卷腹', tooltip: {formatter: '{b}:&lt;br/&gt;55.0kg × 15&lt;br/&gt;total: {c}kg'}},].sort(function (a, b) {return a.value - b.value;}), roseType: 'radius', label: {color: 'rgba(255, 255, 255, 0.3)'}, labelLine: {lineStyle: {color: 'rgba(255, 255, 255, 0.3)'}, smooth: 0.2, length: 10, length2: 20}, itemStyle: {color: '#800020', shadowBlur: 200, shadowColor: 'rgba(0, 0, 0, 0.5)'}, animationType: 'scale', animationEasing: 'elasticOut', animationDelay: function (idx) {return Math.random() * 200;}},\n",
       "Name: Formatter, dtype: object"
      ]
     },
     "execution_count": 31,
     "metadata": {},
     "output_type": "execute_result"
    }
   ],
   "source": [
    "formatter_data[formatter_data['Date'] == time.strftime('%Y/%m/%d', time.localtime(time.time()))]['Formatter']"
   ]
  },
  {
   "cell_type": "markdown",
   "id": "f133121e",
   "metadata": {},
   "source": [
    "### Gallery"
   ]
  },
  {
   "cell_type": "code",
   "execution_count": 29,
   "id": "bcba481d",
   "metadata": {},
   "outputs": [],
   "source": [
    "import os\n",
    "\n",
    "\n",
    "example_dir = '../source/_posts/26'\n",
    "gallery_template = '<div class=\"masonry-gallery\" id=\"gallery\">\\n{0}\\n</div>'\n",
    "gallery_item_template = '  <div class=\"gallery-item\">\\n    <div class=\"content\">\\n      <img src=\"/26/{0}\" />\\n    </div>\\n  </div>'"
   ]
  },
  {
   "cell_type": "code",
   "execution_count": 30,
   "id": "1de95470",
   "metadata": {},
   "outputs": [
    {
     "name": "stdout",
     "output_type": "stream",
     "text": [
      "<div class=\"masonry-gallery\" id=\"gallery\">\n",
      "  <div class=\"gallery-item\">\n",
      "    <div class=\"content\">\n",
      "      <img src=\"/26/IMG_20200418_171248.jpg\" />\n",
      "    </div>\n",
      "  </div>  <div class=\"gallery-item\">\n",
      "    <div class=\"content\">\n",
      "      <img src=\"/26/IMG_20200425_151115.jpg\" />\n",
      "    </div>\n",
      "  </div>  <div class=\"gallery-item\">\n",
      "    <div class=\"content\">\n",
      "      <img src=\"/26/IMG_20200425_151118.jpg\" />\n",
      "    </div>\n",
      "  </div>  <div class=\"gallery-item\">\n",
      "    <div class=\"content\">\n",
      "      <img src=\"/26/IMG_20200502_181226.jpg\" />\n",
      "    </div>\n",
      "  </div>\n",
      "</div>\n"
     ]
    }
   ],
   "source": [
    "items_div = ''\n",
    "for file in os.listdir(example_dir):\n",
    "    items_div += gallery_item_template.format(file)\n",
    "print(gallery_template.format(items_div))"
   ]
  },
  {
   "cell_type": "code",
   "execution_count": 6,
   "id": "b267a5a7",
   "metadata": {},
   "outputs": [],
   "source": [
    "# -*- coding:utf-8 -*-  \n",
    "data = pd.read_csv('../datas/trains.csv')\n",
    "data_by_name = filter_pd_data('NAME', data)\n",
    "average_name_data = {}\n",
    "for name, row in data_by_name.items():\n",
    "    average_name_date_data = {}\n",
    "    for item in row:\n",
    "        key = item['DATE']\n",
    "        if key not in average_name_date_data:\n",
    "            average_name_date_data[key] = { 'total' : item['WEIGHT'] * item['TIMES'], 'num' :  item['TIMES']}\n",
    "        else:\n",
    "            average_name_date_data[key]['total'] += item['WEIGHT'] * item['TIMES']\n",
    "            average_name_date_data[key]['num'] = average_name_date_data[key]['num'] + item['TIMES']\n",
    "    average_name_data[name] = average_name_date_data\n",
    "\n",
    "filename = '../source/_posts/24/data.json'\n",
    "# if not os.path.exists(filename):\n",
    "#     os.mknod(filename)\n",
    "with open(filename, 'w') as f:\n",
    "    f.write(json.dumps(average_name_data))\n",
    "# average_name_data"
   ]
  }
 ],
 "metadata": {
  "kernelspec": {
   "display_name": "Python 3 (ipykernel)",
   "language": "python",
   "name": "python3"
  },
  "language_info": {
   "codemirror_mode": {
    "name": "ipython",
    "version": 3
   },
   "file_extension": ".py",
   "mimetype": "text/x-python",
   "name": "python",
   "nbconvert_exporter": "python",
   "pygments_lexer": "ipython3",
   "version": "3.8.7"
  }
 },
 "nbformat": 4,
 "nbformat_minor": 5
}
