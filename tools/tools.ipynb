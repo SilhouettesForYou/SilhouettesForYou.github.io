{
 "cells": [
  {
   "cell_type": "code",
   "execution_count": 21,
   "id": "77d98bd5",
   "metadata": {},
   "outputs": [],
   "source": [
    "import pandas as pd\n",
    "from datetime import datetime\n",
    "from pandas import DataFrame\n",
    "from tabulate import tabulate\n",
    "from IPython.core.display import HTML\n",
    "from decimal import Decimal\n",
    "import time\n",
    "import json\n",
    "import os"
   ]
  },
  {
   "cell_type": "code",
   "execution_count": 22,
   "id": "f164ac48",
   "metadata": {
    "scrolled": false
   },
   "outputs": [],
   "source": [
    "template_head = '{{% echarts 600 \\'95%\\' %}}\\noption = {{\\n    backgroundColor: \\'#2c343c\\', title: [{{text: \\'{0}\\', left: \\'center\\', top: 20, textStyle: {{color: \\'#ccc\\'}}}}, {1}, {2}, {3}, {4}], tooltip: {{trigger: \\'item\\'}}, visualMap: {{show: false, min: 1000, max: 5000, inRange: {{colorLightness: [0.8, 0.2]}}}},\\n    series: [\\n\\n    ]\\n}};\\n{{% endecharts %}}'\n",
    "template_sub_text = '{{subtext: \\'{0}\\', left: \\'{1}\\', top: \\'{2}\\', textAlign: \\'center\\', fontSize: 20, textStyle: {{color: \\'#ccc\\'}}}}'\n",
    "template_series = '{{name: \\'详细信息\\', type: \\'pie\\', radius: \\'20%\\', center: {0}, {1}, roseType: \\'radius\\', label: {{color: \\'rgba(255, 255, 255, 0.3)\\'}}, labelLine: {{lineStyle: {{color: \\'rgba(255, 255, 255, 0.3)\\'}}, smooth: 0.2, length: 10, length2: 20}}, itemStyle: {{color: \\'{2}\\', shadowBlur: 200, shadowColor: \\'rgba(0, 0, 0, 0.5)\\'}}, animationType: \\'scale\\', animationEasing: \\'elasticOut\\', animationDelay: function (idx) {{return Math.random() * 200;}}}},'\n",
    "template_data_set = 'data: [{0}].sort(function (a, b) {{return a.value - b.value;}})'\n",
    "template_data = '{{value: {0}, name: \\'{1}\\', tooltip: {{formatter: \\'{{b}}:&lt;br/&gt;{2}total: {{c}}kg\\'}}}},'\n",
    "template_item = '{0}kg × {1}&lt;br/&gt;'\n",
    "define_parts = {\n",
    "    '胸':{\n",
    "        'part' : '胸',\n",
    "        'left' : '25%',\n",
    "        'top' : '45%',\n",
    "        'center' : '[\\'25%\\', \\'30%\\']',\n",
    "        'color' : '#800020',\n",
    "    },\n",
    "    '背':{\n",
    "        'part' : '背',\n",
    "        'left' : '75%',\n",
    "        'top' : '45%',\n",
    "        'center' : '[\\'75%\\', \\'30%\\']',\n",
    "        'color' : '#CFB64A',\n",
    "    },\n",
    "    '手臂':{\n",
    "        'part' : '手臂',\n",
    "        'left' : '25%',\n",
    "        'top' : '90%',\n",
    "        'center' : '[\\'25%\\', \\'75%\\']',\n",
    "        'color' : '#407D52',\n",
    "    },\n",
    "    '腿':{\n",
    "        'part' : '腿',\n",
    "        'left' : '75%',\n",
    "        'top' : '90%',\n",
    "        'center' : '[\\'75%\\', \\'75%\\']',\n",
    "        'color' : '#0095B6',\n",
    "    },\n",
    "}\n",
    "defien_part_type = ['胸', '背', '手臂', '腿']\n",
    "pd.set_option('max_colwidth', 2000)\n",
    "pd.set_option('display.unicode.east_asian_width', True)"
   ]
  },
  {
   "cell_type": "code",
   "execution_count": 23,
   "id": "82b9909f",
   "metadata": {},
   "outputs": [],
   "source": [
    "def filter_pd_data(_type, raw):\n",
    "    ret = {}\n",
    "    for index, row in raw.iterrows():\n",
    "        key = row[_type]\n",
    "        if key not in ret:\n",
    "            ret[key] = []\n",
    "        ret[key].append(row)\n",
    "    return ret"
   ]
  },
  {
   "cell_type": "markdown",
   "id": "a7e03358",
   "metadata": {},
   "source": [
    "### Reload CSV"
   ]
  },
  {
   "cell_type": "code",
   "execution_count": 24,
   "id": "63d85c95",
   "metadata": {},
   "outputs": [],
   "source": [
    "def remove_exponent(num):\n",
    "    return num.to_integral() if num == num.to_integral() else num.normalize()\n",
    "\n",
    "pd.set_option('mode.chained_assignment', None)\n",
    "data = pd.read_csv('../datas/trains.csv')\n",
    "\n",
    "# find the last sequenced index\n",
    "last_index = data['ID'].max()\n",
    "offset = 0\n",
    "today = time.strftime('%Y/%m/%d', time.localtime(time.time() - 24 * 24 * offset))\n",
    "data.iloc[:, 3][last_index:] = [today for n in range(len(data) - last_index)]\n",
    "\n",
    "# sequence index\n",
    "ids = [i + 1 for i in range(len(data))]\n",
    "date = time.strftime('%Y/%m/%d', time.localtime(time.time()))\n",
    "dates = [date for i in range(len(ids))]\n",
    "data.iloc[:, 0] = ids\n",
    "data.iloc[:, 4] = [remove_exponent(Decimal(v)) for v in data['WEIGHT']]\n",
    "\n",
    "\n",
    "data.to_csv('../datas/trains.csv', index=0)"
   ]
  },
  {
   "cell_type": "code",
   "execution_count": 25,
   "id": "d8c2922c",
   "metadata": {
    "scrolled": false
   },
   "outputs": [
    {
     "data": {
      "text/html": [
       "<style type=\"text/css\">\n",
       "#T_b44ce th {\n",
       "  text-align: center;\n",
       "}\n",
       "#T_b44ce_row0_col0, #T_b44ce_row0_col1, #T_b44ce_row1_col0, #T_b44ce_row1_col1, #T_b44ce_row2_col0, #T_b44ce_row2_col1 {\n",
       "  text-align: left;\n",
       "}\n",
       "</style>\n",
       "<table id=\"T_b44ce\">\n",
       "  <thead>\n",
       "    <tr>\n",
       "      <th class=\"blank level0\" >&nbsp;</th>\n",
       "      <th id=\"T_b44ce_level0_col0\" class=\"col_heading level0 col0\" >Date</th>\n",
       "      <th id=\"T_b44ce_level0_col1\" class=\"col_heading level0 col1\" >Formatter</th>\n",
       "    </tr>\n",
       "  </thead>\n",
       "  <tbody>\n",
       "    <tr>\n",
       "      <th id=\"T_b44ce_level0_row0\" class=\"row_heading level0 row0\" >39</th>\n",
       "      <td id=\"T_b44ce_row0_col0\" class=\"data row0 col0\" >2022/02/15</td>\n",
       "      <td id=\"T_b44ce_row0_col1\" class=\"data row0 col1\" >{name: '详细信息', type: 'pie', radius: '20%', center: ['75%', '30%'], data: [{value: 3740.0, name: '宽握引体向上', tooltip: {formatter: '{b}:&lt;br/&gt;68.0kg × 10&lt;br/&gt;68.0kg × 8&lt;br/&gt;68.0kg × 6&lt;br/&gt;68.0kg × 8&lt;br/&gt;68.0kg × 6&lt;br/&gt;68.0kg × 6&lt;br/&gt;68.0kg × 6&lt;br/&gt;68.0kg × 5&lt;br/&gt;total: {c}kg'}},{value: 2400.0, name: '俯身杠铃划船', tooltip: {formatter: '{b}:&lt;br/&gt;60.0kg × 10&lt;br/&gt;60.0kg × 10&lt;br/&gt;60.0kg × 10&lt;br/&gt;60.0kg × 10&lt;br/&gt;total: {c}kg'}},{value: 3480.0, name: '坐姿拉索划船', tooltip: {formatter: '{b}:&lt;br/&gt;70.0kg × 12&lt;br/&gt;70.0kg × 12&lt;br/&gt;75.0kg × 12&lt;br/&gt;75.0kg × 12&lt;br/&gt;total: {c}kg'}},{value: 2800.0, name: '高位窄握下拉', tooltip: {formatter: '{b}:&lt;br/&gt;70.0kg × 10&lt;br/&gt;70.0kg × 10&lt;br/&gt;70.0kg × 10&lt;br/&gt;70.0kg × 10&lt;br/&gt;total: {c}kg'}},{value: 1200.0, name: '双头绳直臂下压', tooltip: {formatter: '{b}:&lt;br/&gt;30.0kg × 10&lt;br/&gt;30.0kg × 10&lt;br/&gt;30.0kg × 10&lt;br/&gt;30.0kg × 10&lt;br/&gt;total: {c}kg'}},{value: 1420.0, name: '俯身单臂哑铃划船', tooltip: {formatter: '{b}:&lt;br/&gt;40.0kg × 10&lt;br/&gt;40.0kg × 8&lt;br/&gt;35.0kg × 10&lt;br/&gt;35.0kg × 10&lt;br/&gt;total: {c}kg'}},{value: 3300.0, name: '跪姿拉索卷腹', tooltip: {formatter: '{b}:&lt;br/&gt;55.0kg × 20&lt;br/&gt;55.0kg × 20&lt;br/&gt;55.0kg × 20&lt;br/&gt;total: {c}kg'}},].sort(function (a, b) {return a.value - b.value;}), roseType: 'radius', label: {color: 'rgba(255, 255, 255, 0.3)'}, labelLine: {lineStyle: {color: 'rgba(255, 255, 255, 0.3)'}, smooth: 0.2, length: 10, length2: 20}, itemStyle: {color: '#CFB64A', shadowBlur: 200, shadowColor: 'rgba(0, 0, 0, 0.5)'}, animationType: 'scale', animationEasing: 'elasticOut', animationDelay: function (idx) {return Math.random() * 200;}},</td>\n",
       "    </tr>\n",
       "    <tr>\n",
       "      <th id=\"T_b44ce_level0_row1\" class=\"row_heading level0 row1\" >40</th>\n",
       "      <td id=\"T_b44ce_row1_col0\" class=\"data row1 col0\" >2022/02/16</td>\n",
       "      <td id=\"T_b44ce_row1_col1\" class=\"data row1 col1\" >{name: '详细信息', type: 'pie', radius: '20%', center: ['25%', '75%'], data: [{value: 1200.0, name: '站姿杠铃弯举', tooltip: {formatter: '{b}:&lt;br/&gt;25.0kg × 10&lt;br/&gt;25.0kg × 10&lt;br/&gt;25.0kg × 10&lt;br/&gt;25.0kg × 10&lt;br/&gt;20.0kg × 10&lt;br/&gt;total: {c}kg'}},{value: 1740.0, name: '绳索三头下拉', tooltip: {formatter: '{b}:&lt;br/&gt;30.0kg × 10&lt;br/&gt;30.0kg × 10&lt;br/&gt;30.0kg × 10&lt;br/&gt;30.0kg × 10&lt;br/&gt;30.0kg × 6&lt;br/&gt;25.0kg × 6&lt;br/&gt;20.0kg × 6&lt;br/&gt;15.0kg × 6&lt;br/&gt;total: {c}kg'}},{value: 1440.0, name: '站姿拉索弯举', tooltip: {formatter: '{b}:&lt;br/&gt;30.0kg × 12&lt;br/&gt;30.0kg × 12&lt;br/&gt;30.0kg × 12&lt;br/&gt;30.0kg × 12&lt;br/&gt;total: {c}kg'}},{value: 1440.0, name: '固定杠臂屈伸', tooltip: {formatter: '{b}:&lt;br/&gt;30.0kg × 12&lt;br/&gt;30.0kg × 12&lt;br/&gt;30.0kg × 12&lt;br/&gt;30.0kg × 12&lt;br/&gt;total: {c}kg'}},{value: 1680.0, name: '坐姿哑铃推举', tooltip: {formatter: '{b}:&lt;br/&gt;35.0kg × 12&lt;br/&gt;35.0kg × 10&lt;br/&gt;35.0kg × 10&lt;br/&gt;35.0kg × 8&lt;br/&gt;35.0kg × 8&lt;br/&gt;total: {c}kg'}},{value: 1400.0, name: '站姿哑铃侧平举', tooltip: {formatter: '{b}:&lt;br/&gt;20.0kg × 10&lt;br/&gt;15.0kg × 10&lt;br/&gt;10.0kg × 10&lt;br/&gt;25.0kg × 10&lt;br/&gt;15.0kg × 10&lt;br/&gt;10.0kg × 10&lt;br/&gt;25.0kg × 8&lt;br/&gt;15.0kg × 10&lt;br/&gt;10.0kg × 10&lt;br/&gt;total: {c}kg'}},{value: 700.0, name: '站姿俯身哑铃飞鸟', tooltip: {formatter: '{b}:&lt;br/&gt;15.0kg × 10&lt;br/&gt;15.0kg × 10&lt;br/&gt;20.0kg × 10&lt;br/&gt;20.0kg × 10&lt;br/&gt;total: {c}kg'}},{value: 3060.0, name: '悬垂卷腹', tooltip: {formatter: '{b}:&lt;br/&gt;68.0kg × 15&lt;br/&gt;68.0kg × 15&lt;br/&gt;68.0kg × 15&lt;br/&gt;total: {c}kg'}},].sort(function (a, b) {return a.value - b.value;}), roseType: 'radius', label: {color: 'rgba(255, 255, 255, 0.3)'}, labelLine: {lineStyle: {color: 'rgba(255, 255, 255, 0.3)'}, smooth: 0.2, length: 10, length2: 20}, itemStyle: {color: '#407D52', shadowBlur: 200, shadowColor: 'rgba(0, 0, 0, 0.5)'}, animationType: 'scale', animationEasing: 'elasticOut', animationDelay: function (idx) {return Math.random() * 200;}},</td>\n",
       "    </tr>\n",
       "    <tr>\n",
       "      <th id=\"T_b44ce_level0_row2\" class=\"row_heading level0 row2\" >41</th>\n",
       "      <td id=\"T_b44ce_row2_col0\" class=\"data row2 col0\" >2022/02/21</td>\n",
       "      <td id=\"T_b44ce_row2_col1\" class=\"data row2 col1\" >{name: '详细信息', type: 'pie', radius: '20%', center: ['25%', '30%'], data: [{value: 2730.0, name: '仰卧杠铃卧推', tooltip: {formatter: '{b}:&lt;br/&gt;60.0kg × 8&lt;br/&gt;60.0kg × 8&lt;br/&gt;60.0kg × 6&lt;br/&gt;60.0kg × 7&lt;br/&gt;60.0kg × 8&lt;br/&gt;70.0kg × 3&lt;br/&gt;50.0kg × 6&lt;br/&gt;total: {c}kg'}},{value: 2000.0, name: '上斜器械推举', tooltip: {formatter: '{b}:&lt;br/&gt;40.0kg × 10&lt;br/&gt;40.0kg × 10&lt;br/&gt;40.0kg × 10&lt;br/&gt;40.0kg × 10&lt;br/&gt;40.0kg × 10&lt;br/&gt;total: {c}kg'}},{value: 1440.0, name: '窄距哑铃推举', tooltip: {formatter: '{b}:&lt;br/&gt;30.0kg × 12&lt;br/&gt;30.0kg × 12&lt;br/&gt;30.0kg × 12&lt;br/&gt;30.0kg × 12&lt;br/&gt;total: {c}kg'}},{value: 3264.0, name: '双杠臂屈伸', tooltip: {formatter: '{b}:&lt;br/&gt;68.0kg × 12&lt;br/&gt;68.0kg × 12&lt;br/&gt;68.0kg × 12&lt;br/&gt;68.0kg × 12&lt;br/&gt;total: {c}kg'}},{value: 720.0, name: '站姿高位拉锁夹胸', tooltip: {formatter: '{b}:&lt;br/&gt;30.0kg × 12&lt;br/&gt;30.0kg × 12&lt;br/&gt;total: {c}kg'}},{value: 300.0, name: '坐姿器械夹胸', tooltip: {formatter: '{b}:&lt;br/&gt;15.0kg × 10&lt;br/&gt;15.0kg × 10&lt;br/&gt;total: {c}kg'}},{value: 3060.0, name: '悬垂卷腹', tooltip: {formatter: '{b}:&lt;br/&gt;68.0kg × 15&lt;br/&gt;68.0kg × 15&lt;br/&gt;68.0kg × 15&lt;br/&gt;total: {c}kg'}},{value: 2200.0, name: '跪姿拉索卷腹', tooltip: {formatter: '{b}:&lt;br/&gt;55.0kg × 20&lt;br/&gt;55.0kg × 20&lt;br/&gt;total: {c}kg'}},].sort(function (a, b) {return a.value - b.value;}), roseType: 'radius', label: {color: 'rgba(255, 255, 255, 0.3)'}, labelLine: {lineStyle: {color: 'rgba(255, 255, 255, 0.3)'}, smooth: 0.2, length: 10, length2: 20}, itemStyle: {color: '#800020', shadowBlur: 200, shadowColor: 'rgba(0, 0, 0, 0.5)'}, animationType: 'scale', animationEasing: 'elasticOut', animationDelay: function (idx) {return Math.random() * 200;}},</td>\n",
       "    </tr>\n",
       "  </tbody>\n",
       "</table>\n"
      ],
      "text/plain": [
       "<pandas.io.formats.style.Styler at 0x1c5c6418370>"
      ]
     },
     "execution_count": 25,
     "metadata": {},
     "output_type": "execute_result"
    }
   ],
   "source": [
    "data = pd.read_csv('../datas/trains.csv')\n",
    "data = data.dropna(axis=0, how='any')  \n",
    "def generate_head(date_str):\n",
    "    part1 = template_sub_text.format(define_parts[defien_part_type[0]]['part'], define_parts[defien_part_type[0]]['left'], define_parts[defien_part_type[0]]['top'])\n",
    "    part2 = template_sub_text.format(define_parts[defien_part_type[1]]['part'], define_parts[defien_part_type[1]]['left'], define_parts[defien_part_type[1]]['top'])\n",
    "    part3 = template_sub_text.format(define_parts[defien_part_type[2]]['part'], define_parts[defien_part_type[2]]['left'], define_parts[defien_part_type[2]]['top'])\n",
    "    part4 = template_sub_text.format(define_parts[defien_part_type[3]]['part'], define_parts[defien_part_type[3]]['left'], define_parts[defien_part_type[3]]['top'])\n",
    "    head = template_head.format(date_str, part1, part2, part3, part4)\n",
    "    return head\n",
    "\n",
    "def left_align(df: DataFrame):\n",
    "    left_aligned_df = df.style.set_properties(**{'text-align': 'left'})\n",
    "    left_aligned_df = left_aligned_df.set_table_styles(\n",
    "        [dict(selector='th', props=[('text-align', 'center')])]\n",
    "    )\n",
    "    return left_aligned_df\n",
    "\n",
    "\n",
    "data_by_date = filter_pd_data('DATE', data)\n",
    "\n",
    "data_formatter = {}\n",
    "for key, value in data_by_date.items():\n",
    "    data_set_str = ''\n",
    "    center = ''\n",
    "    color = ''\n",
    "    df = pd.DataFrame(value)\n",
    "    data_by_name = filter_pd_data('NAME', df)\n",
    "    for name, row in data_by_name.items():\n",
    "        total = 0\n",
    "        item_str = ''\n",
    "        for item in row:\n",
    "            weight = item['WEIGHT']\n",
    "            times = item['TIMES']\n",
    "            center = define_parts[item['PART']]['center']\n",
    "            color = define_parts[item['PART']]['color']\n",
    "            total += weight * times\n",
    "            item_str += template_item.format(weight, int(times))\n",
    "        data_set_str += template_data.format(total, name, item_str)\n",
    "    data_formatter[key] = template_series.format(center, template_data_set.format(data_set_str), color)\n",
    "    \n",
    "formatter_data = pd.DataFrame(data_formatter.items(), columns=['Date', 'Formatter'])\n",
    "# formatter_data.style.set_properties(**{'text-align': 'left'}).set_table_styles([dict(selector='th', props=[('text-align', 'left')])])\n",
    "left_align(formatter_data[-3:])\n",
    "# display(HTML(formatter_data.to_html(index=False, justify='left')))\n",
    "# formatter_data.to_html()"
   ]
  },
  {
   "cell_type": "markdown",
   "id": "951fe23d",
   "metadata": {},
   "source": [
    "### Generate Head"
   ]
  },
  {
   "cell_type": "code",
   "execution_count": 31,
   "id": "a6024071",
   "metadata": {
    "scrolled": false
   },
   "outputs": [
    {
     "name": "stdout",
     "output_type": "stream",
     "text": [
      "{% echarts 600 '95%' %}\n",
      "option = {\n",
      "    backgroundColor: '#2c343c', title: [{text: '2022/02/21 - 2022/02/24', left: 'center', top: 20, textStyle: {color: '#ccc'}}, {subtext: '胸', left: '25%', top: '45%', textAlign: 'center', fontSize: 20, textStyle: {color: '#ccc'}}, {subtext: '背', left: '75%', top: '45%', textAlign: 'center', fontSize: 20, textStyle: {color: '#ccc'}}, {subtext: '手臂', left: '25%', top: '90%', textAlign: 'center', fontSize: 20, textStyle: {color: '#ccc'}}, {subtext: '腿', left: '75%', top: '90%', textAlign: 'center', fontSize: 20, textStyle: {color: '#ccc'}}], tooltip: {trigger: 'item'}, visualMap: {show: false, min: 1000, max: 5000, inRange: {colorLightness: [0.8, 0.2]}},\n",
      "    series: [\n",
      "\n",
      "    ]\n",
      "};\n",
      "{% endecharts %}\n"
     ]
    }
   ],
   "source": [
    "print(generate_head('2022/02/21 - 2022/02/24'))"
   ]
  },
  {
   "cell_type": "markdown",
   "id": "77077941",
   "metadata": {},
   "source": [
    "### Generate Data by Date"
   ]
  },
  {
   "cell_type": "code",
   "execution_count": 32,
   "id": "84681cfd",
   "metadata": {
    "scrolled": false
   },
   "outputs": [
    {
     "data": {
      "text/plain": [
       "41    {name: '详细信息', type: 'pie', radius: '20%', center: ['25%', '30%'], data: [{value: 2730.0, name: '仰卧杠铃卧推', tooltip: {formatter: '{b}:&lt;br/&gt;60.0kg × 8&lt;br/&gt;60.0kg × 8&lt;br/&gt;60.0kg × 6&lt;br/&gt;60.0kg × 7&lt;br/&gt;60.0kg × 8&lt;br/&gt;70.0kg × 3&lt;br/&gt;50.0kg × 6&lt;br/&gt;total: {c}kg'}},{value: 2000.0, name: '上斜器械推举', tooltip: {formatter: '{b}:&lt;br/&gt;40.0kg × 10&lt;br/&gt;40.0kg × 10&lt;br/&gt;40.0kg × 10&lt;br/&gt;40.0kg × 10&lt;br/&gt;40.0kg × 10&lt;br/&gt;total: {c}kg'}},{value: 1440.0, name: '窄距哑铃推举', tooltip: {formatter: '{b}:&lt;br/&gt;30.0kg × 12&lt;br/&gt;30.0kg × 12&lt;br/&gt;30.0kg × 12&lt;br/&gt;30.0kg × 12&lt;br/&gt;total: {c}kg'}},{value: 3264.0, name: '双杠臂屈伸', tooltip: {formatter: '{b}:&lt;br/&gt;68.0kg × 12&lt;br/&gt;68.0kg × 12&lt;br/&gt;68.0kg × 12&lt;br/&gt;68.0kg × 12&lt;br/&gt;total: {c}kg'}},{value: 720.0, name: '站姿高位拉锁夹胸', tooltip: {formatter: '{b}:&lt;br/&gt;30.0kg × 12&lt;br/&gt;30.0kg × 12&lt;br/&gt;total: {c}kg'}},{value: 300.0, name: '坐姿器械夹胸', tooltip: {formatter: '{b}:&lt;br/&gt;15.0kg × 10&lt;br/&gt;15.0kg × 10&lt;br/&gt;total: {c}kg'}},{value: 3060.0, name: '悬垂卷腹', tooltip: {formatter: '{b}:&lt;br/&gt;68.0kg × 15&lt;br/&gt;68.0kg × 15&lt;br/&gt;68.0kg × 15&lt;br/&gt;total: {c}kg'}},{value: 2200.0, name: '跪姿拉索卷腹', tooltip: {formatter: '{b}:&lt;br/&gt;55.0kg × 20&lt;br/&gt;55.0kg × 20&lt;br/&gt;total: {c}kg'}},].sort(function (a, b) {return a.value - b.value;}), roseType: 'radius', label: {color: 'rgba(255, 255, 255, 0.3)'}, labelLine: {lineStyle: {color: 'rgba(255, 255, 255, 0.3)'}, smooth: 0.2, length: 10, length2: 20}, itemStyle: {color: '#800020', shadowBlur: 200, shadowColor: 'rgba(0, 0, 0, 0.5)'}, animationType: 'scale', animationEasing: 'elasticOut', animationDelay: function (idx) {return Math.random() * 200;}},\n",
       "Name: Formatter, dtype: object"
      ]
     },
     "execution_count": 32,
     "metadata": {},
     "output_type": "execute_result"
    }
   ],
   "source": [
    "formatter_data[formatter_data['Date'] == time.strftime('%Y/%m/%d', time.localtime(time.time()))]['Formatter']"
   ]
  },
  {
   "cell_type": "markdown",
   "id": "f133121e",
   "metadata": {},
   "source": [
    "### Gallery"
   ]
  },
  {
   "cell_type": "code",
   "execution_count": 33,
   "id": "bcba481d",
   "metadata": {},
   "outputs": [],
   "source": [
    "import os\n",
    "\n",
    "\n",
    "example_dir = '../source/_posts/26'\n",
    "gallery_template = '<div class=\"masonry-gallery\" id=\"gallery\">\\n{0}\\n</div>'\n",
    "gallery_item_template = '  <div class=\"gallery-item\">\\n    <div class=\"content\">\\n      <img src=\"/26/{0}\" />\\n    </div>\\n  </div>'"
   ]
  },
  {
   "cell_type": "code",
   "execution_count": 34,
   "id": "1de95470",
   "metadata": {},
   "outputs": [],
   "source": [
    "items_div = ''\n",
    "for file in os.listdir(example_dir):\n",
    "    items_div += gallery_item_template.format(file)\n",
    "with open('../datas/gallery_scenery.xml', 'w') as w:\n",
    "    w.write(gallery_template.format(items_div))"
   ]
  },
  {
   "cell_type": "code",
   "execution_count": 35,
   "id": "b267a5a7",
   "metadata": {},
   "outputs": [],
   "source": [
    "# -*- coding:utf-8 -*-  \n",
    "data = pd.read_csv('../datas/trains.csv')\n",
    "data_by_name = filter_pd_data('NAME', data)\n",
    "average_name_data = {}\n",
    "for name, row in data_by_name.items():\n",
    "    average_name_date_data = {}\n",
    "    for item in row:\n",
    "        key = item['DATE']\n",
    "        if key not in average_name_date_data:\n",
    "            average_name_date_data[key] = { 'total' : item['WEIGHT'] * item['TIMES'], 'num' :  item['TIMES']}\n",
    "        else:\n",
    "            average_name_date_data[key]['total'] += item['WEIGHT'] * item['TIMES']\n",
    "            average_name_date_data[key]['num'] = average_name_date_data[key]['num'] + item['TIMES']\n",
    "    average_name_data[name] = average_name_date_data\n",
    "\n",
    "filename = '../source/_posts/24/data.json'\n",
    "# if not os.path.exists(filename):\n",
    "#     os.mknod(filename)\n",
    "with open(filename, 'w') as f:\n",
    "    f.write(json.dumps(average_name_data))\n",
    "# average_name_data"
   ]
  }
 ],
 "metadata": {
  "kernelspec": {
   "display_name": "Python 3 (ipykernel)",
   "language": "python",
   "name": "python3"
  },
  "language_info": {
   "codemirror_mode": {
    "name": "ipython",
    "version": 3
   },
   "file_extension": ".py",
   "mimetype": "text/x-python",
   "name": "python",
   "nbconvert_exporter": "python",
   "pygments_lexer": "ipython3",
   "version": "3.10.2"
  }
 },
 "nbformat": 4,
 "nbformat_minor": 5
}
