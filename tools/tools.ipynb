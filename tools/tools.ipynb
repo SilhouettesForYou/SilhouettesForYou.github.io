{
 "cells": [
  {
   "cell_type": "code",
   "execution_count": 172,
   "id": "1d89efcb",
   "metadata": {},
   "outputs": [],
   "source": [
    "import pandas as pd\n",
    "from datetime import datetime\n",
    "from pandas import DataFrame\n",
    "from tabulate import tabulate\n",
    "import time"
   ]
  },
  {
   "cell_type": "code",
   "execution_count": 168,
   "id": "d15a99df",
   "metadata": {
    "scrolled": false
   },
   "outputs": [],
   "source": [
    "template_data_set = 'data: [{0}].sort(function (a, b) {{return a.value - b.value;}}),'\n",
    "template_data = '{{value: {0}, name: \\'{1}\\', tooltip: {{formatter: \\'{{b}}:<br/>{2}total: {{c}}kg\\'}}}},'\n",
    "template_item = '{0}kg × {1}<br/>'\n",
    "pd.set_option('max_colwidth', 2000)\n",
    "pd.set_option('display.unicode.east_asian_width', True)"
   ]
  },
  {
   "cell_type": "code",
   "execution_count": 182,
   "id": "d798436c",
   "metadata": {
    "scrolled": false
   },
   "outputs": [
    {
     "data": {
      "text/html": [
       "<table border=\"1\" class=\"dataframe\">\n",
       "  <thead>\n",
       "    <tr style=\"text-align: left;\">\n",
       "      <th>Date</th>\n",
       "      <th>Formatter</th>\n",
       "    </tr>\n",
       "  </thead>\n",
       "  <tbody>\n",
       "    <tr>\n",
       "      <td>2021/11/25</td>\n",
       "      <td>data: [{value: 7200, name: '腿举', tooltip: {formatter: '{b}:&lt;br/&gt;120kg × 10&lt;br/&gt;140kg × 10&lt;br/&gt;140kg × 10&lt;br/&gt;160kg × 10&lt;br/&gt;160kg × 10&lt;br/&gt;total: {c}kg'}},{value: 2120, name: '直腿硬拉', tooltip: {formatter: '{b}:&lt;br/&gt;60kg × 8&lt;br/&gt;80kg × 8&lt;br/&gt;100kg × 3&lt;br/&gt;100kg × 4&lt;br/&gt;100kg × 3&lt;br/&gt;total: {c}kg'}},{value: 2980, name: '自由深蹲', tooltip: {formatter: '{b}:&lt;br/&gt;60kg × 8&lt;br/&gt;80kg × 8&lt;br/&gt;100kg × 3&lt;br/&gt;100kg × 3&lt;br/&gt;100kg × 3&lt;br/&gt;60kg × 8&lt;br/&gt;60kg × 8&lt;br/&gt;total: {c}kg'}},{value: 1632, name: '坐姿腿屈伸', tooltip: {formatter: '{b}:&lt;br/&gt;34kg × 12&lt;br/&gt;34kg × 12&lt;br/&gt;34kg × 12&lt;br/&gt;34kg × 12&lt;br/&gt;total: {c}kg'}},{value: 3168, name: '罗马挺', tooltip: {formatter: '{b}:&lt;br/&gt;66kg × 12&lt;br/&gt;66kg × 12&lt;br/&gt;66kg × 12&lt;br/&gt;66kg × 12&lt;br/&gt;total: {c}kg'}},].sort(function (a, b) {return a.value - b.value;}),</td>\n",
       "    </tr>\n",
       "    <tr>\n",
       "      <td>2021/11/29</td>\n",
       "      <td>data: [{value: 2300, name: '仰卧杠铃卧推', tooltip: {formatter: '{b}:&lt;br/&gt;60kg × 8&lt;br/&gt;60kg × 8&lt;br/&gt;60kg × 8&lt;br/&gt;60kg × 6&lt;br/&gt;60kg × 6&lt;br/&gt;70kg × 2&lt;br/&gt;total: {c}kg'}},{value: 1980, name: '上斜器械推举', tooltip: {formatter: '{b}:&lt;br/&gt;30kg × 12&lt;br/&gt;30kg × 12&lt;br/&gt;30kg × 12&lt;br/&gt;40kg × 10&lt;br/&gt;50kg × 10&lt;br/&gt;total: {c}kg'}},{value: 1382, name: '窄距哑铃推举', tooltip: {formatter: '{b}:&lt;br/&gt;30kg × 12&lt;br/&gt;31kg × 12&lt;br/&gt;32kg × 10&lt;br/&gt;33kg × 10&lt;br/&gt;total: {c}kg'}},{value: 2600, name: '双杠臂屈伸', tooltip: {formatter: '{b}:&lt;br/&gt;65kg × 10&lt;br/&gt;65kg × 10&lt;br/&gt;65kg × 10&lt;br/&gt;65kg × 10&lt;br/&gt;total: {c}kg'}},{value: 1100, name: '站姿高位拉锁夹胸', tooltip: {formatter: '{b}:&lt;br/&gt;30kg × 10&lt;br/&gt;30kg × 10&lt;br/&gt;30kg × 10&lt;br/&gt;20kg × 10&lt;br/&gt;total: {c}kg'}},{value: 2925, name: '悬垂卷腹', tooltip: {formatter: '{b}:&lt;br/&gt;65kg × 15&lt;br/&gt;65kg × 15&lt;br/&gt;65kg × 15&lt;br/&gt;total: {c}kg'}},{value: 2475, name: '跪姿拉索卷腹', tooltip: {formatter: '{b}:&lt;br/&gt;55kg × 15&lt;br/&gt;55kg × 15&lt;br/&gt;55kg × 15&lt;br/&gt;total: {c}kg'}},].sort(function (a, b) {return a.value - b.value;}),</td>\n",
       "    </tr>\n",
       "    <tr>\n",
       "      <td>2021/11/30</td>\n",
       "      <td>data: [{value: 2745, name: '宽握引体向上', tooltip: {formatter: '{b}:&lt;br/&gt;65kg × 10&lt;br/&gt;65kg × 8&lt;br/&gt;65kg × 8&lt;br/&gt;65kg × 7&lt;br/&gt;75kg × 4&lt;br/&gt;75kg × 4&lt;br/&gt;total: {c}kg'}},{value: 2400, name: '俯身杠铃划船', tooltip: {formatter: '{b}:&lt;br/&gt;60kg × 10&lt;br/&gt;60kg × 10&lt;br/&gt;60kg × 10&lt;br/&gt;60kg × 10&lt;br/&gt;total: {c}kg'}},{value: 4250, name: '坐姿拉索划船', tooltip: {formatter: '{b}:&lt;br/&gt;65kg × 10&lt;br/&gt;75kg × 12&lt;br/&gt;75kg × 12&lt;br/&gt;75kg × 12&lt;br/&gt;75kg × 12&lt;br/&gt;total: {c}kg'}},{value: 2800, name: '高位宽握下拉', tooltip: {formatter: '{b}:&lt;br/&gt;65kg × 10&lt;br/&gt;75kg × 10&lt;br/&gt;75kg × 10&lt;br/&gt;65kg × 10&lt;br/&gt;total: {c}kg'}},{value: 2000, name: '器械坐姿划船', tooltip: {formatter: '{b}:&lt;br/&gt;40kg × 10&lt;br/&gt;40kg × 10&lt;br/&gt;40kg × 10&lt;br/&gt;40kg × 10&lt;br/&gt;20kg × 20&lt;br/&gt;total: {c}kg'}},{value: 750, name: '直臂下压', tooltip: {formatter: '{b}:&lt;br/&gt;15kg × 10&lt;br/&gt;15kg × 10&lt;br/&gt;20kg × 10&lt;br/&gt;25kg × 10&lt;br/&gt;total: {c}kg'}},{value: 2250, name: '坐姿卷腹', tooltip: {formatter: '{b}:&lt;br/&gt;30kg × 25&lt;br/&gt;30kg × 25&lt;br/&gt;30kg × 25&lt;br/&gt;total: {c}kg'}},{value: 1000, name: '俄式转体', tooltip: {formatter: '{b}:&lt;br/&gt;10kg × 50&lt;br/&gt;10kg × 50&lt;br/&gt;total: {c}kg'}},].sort(function (a, b) {return a.value - b.value;}),</td>\n",
       "    </tr>\n",
       "  </tbody>\n",
       "</table>"
      ],
      "text/plain": [
       "<IPython.core.display.HTML object>"
      ]
     },
     "metadata": {},
     "output_type": "display_data"
    }
   ],
   "source": [
    "data = pd.read_csv('../datas/trains.csv', encoding='gbk')\n",
    "\n",
    "def left_align(df: DataFrame):\n",
    "    left_aligned_df = df.style.set_properties(**{'text-align': 'left'})\n",
    "    left_aligned_df = left_aligned_df.set_table_styles(\n",
    "        [dict(selector='th', props=[('text-align', 'left')])]\n",
    "    )\n",
    "    return left_aligned_df\n",
    "\n",
    "def filter_pd_data(_type, raw):\n",
    "    ret = {}\n",
    "    for index, row in raw.iterrows():\n",
    "        key = row[_type]\n",
    "        if key not in ret:\n",
    "            ret[key] = []\n",
    "        ret[key].append(row)\n",
    "    return ret\n",
    "data_by_date = filter_pd_data('DATE', data)\n",
    "\n",
    "data_formatter = {}\n",
    "for key, value in data_by_date.items():\n",
    "    data_set_str = ''\n",
    "    df = pd.DataFrame(value)\n",
    "    data_by_name = filter_pd_data('NAME', df)\n",
    "    for name, row in data_by_name.items():\n",
    "        total = 0\n",
    "        item_str = ''\n",
    "        for item in row:\n",
    "            weight = item['WEIGHT']\n",
    "            times = item['TIMES']\n",
    "            total += weight * times\n",
    "            item_str += template_item.format(weight, times)\n",
    "        data_set_str += template_data.format(total, name, item_str)\n",
    "    data_formatter[key] = template_data_set.format(data_set_str)\n",
    "    \n",
    "formatter_data = pd.DataFrame(data_formatter.items(), columns=['Date', 'Formatter'])\n",
    "formatter_data.style.set_properties(**{'text-align': 'left'}).set_table_styles([dict(selector='th', props=[('text-align', 'left')])])\n",
    "# left_align(formatter_data)\n",
    "from IPython.core.display import HTML\n",
    "display(HTML(formatter_data.to_html(index=False, justify='left')))"
   ]
  },
  {
   "cell_type": "code",
   "execution_count": null,
   "id": "abd6cb2e",
   "metadata": {},
   "outputs": [],
   "source": [
    "formatter_data[formatter_data['Date'] == time.strftime('%Y/%m/%d', time.localtime(time.time()))]['Formatter']"
   ]
  }
 ],
 "metadata": {
  "kernelspec": {
   "display_name": "Python 3 (ipykernel)",
   "language": "python",
   "name": "python3"
  },
  "language_info": {
   "codemirror_mode": {
    "name": "ipython",
    "version": 3
   },
   "file_extension": ".py",
   "mimetype": "text/x-python",
   "name": "python",
   "nbconvert_exporter": "python",
   "pygments_lexer": "ipython3",
   "version": "3.8.7"
  }
 },
 "nbformat": 4,
 "nbformat_minor": 5
}
